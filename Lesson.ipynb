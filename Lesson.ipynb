{
  "cells": [
    {
      "cell_type": "markdown",
      "metadata": {
        "id": "-HAFRN6UOxZ-"
      },
      "source": [
        "# Multiprocessing\n",
        "\n",
        "Or writing programs to use multiple processor cores"
      ]
    },
    {
      "cell_type": "markdown",
      "metadata": {
        "id": "MPFDGSqdOxZ_"
      },
      "source": [
        "### This lesson is based on notes from [sebastianraschka.com](http://sebastianraschka.com/Articles/2014_multiprocessing.html)\n",
        "\n",
        "What actually happens when you run code, or execute a program on a computer? If we focus on Python, what happens when we run Python code? Does our computer \"speak Python\", understand what we type, and do what we ask?\n",
        "\n",
        "It turns out that no, our computer does NOT speak Python. When we execute Python code, our code is passed to an **interpreter**. This interpreter is what reads our code and translates what we have written into what is called **machine code**. Machine code is typically not human-readable. That's the reason we have languages like Python, R, C++, Java, etc. We need a way to express logic clearly and explicitly, so that it can be translated into the kind of code that our computer DOES understand.\n",
        "\n",
        "So far, human speech (or written human language) does not translate directly to machine code.\n",
        "\n",
        "But what actually happens once we write our code, and the computer starts to run that code? We can understand the basics of this process through the following six (simplified!) steps:\n",
        "\n",
        "1) The computer allocates memory to the program\n",
        "2) The program issues a series of instructions to the processor (the thinking part of the computer)\n",
        "3) Upon completion of one instruction by the processor, the next is started\n",
        "4) Information is returned from the processor to the program as needed\n",
        "5) New instructions are sent to the processor based on information received from the processor\n",
        "6) Return to step 2, repeat until program is finished\n",
        "\n",
        "\n",
        "When a program is running, it typically has a single space in memory in which it stores all information relevant to its task. This memory space allows the information to be used by whichever part of the program requires that information to use it. Basically, think of all of the things in memory as shared assets, and different parts of the program want to be able to access them at the same time. Kind of like if you share a storage space with a friend or family member. Sometimes you'll be pulling out the camping gear, and sometimes they will be instead.\n",
        "\n",
        "Information that is accessible across the entire program are called **globally defined values**. But not all variables are global. Some variables with reduced **scope** are not available to all segments of a program. You might have valuables that you don't share with the other people using your storage space. It's kind of like that. Variables with reduced scope are only available to parts of the program that share that scope.\n",
        "\n",
        "While for people, we restrict access primarily based on keeping valuables safe, programs tend to do it in order to ensure that information is not lost or modified while it is needed by a part of the program. You wouldn't want to have someone change your budgeting spreadsheet in the middle of the month, would you?\n",
        "\n",
        "Again, **scope** is a term used to define the areas in which a given value in memory is accessible. Variables that are **Global** in scope can typically be accessed by any function or command running as part of the program. Variables that are **Local** can only be accessed within the scope in which they are defined. A variable created inside a function is said to be **local** to that function, and only available until the function is concluded. Then it is either returned to the global space, or forgotten.\n"
      ]
    },
    {
      "cell_type": "markdown",
      "metadata": {
        "id": "I1EAxMynOxaA"
      },
      "source": [
        "\n",
        "![](https://github.com/dustywhite7/Econ8320/blob/master/SlidesCode/serialParallel.png?raw=true)\n",
        "\n",
        "One of the single biggest changes in computational technology in the recent past was the advent and spread of parallel computation. This concept is the crux of this lesson, but needs a lot of explaining, because it isn't something that we as computer USERS have to deal with. It happens behind the scenes, despite its tremendous importance.\n",
        "\n",
        "### Sequential programs\n",
        "\n",
        "When we perform tasks, some steps must be performed sequentially. This happens because one task depends on the results of the other task. For example, an American football team will only make a play on fourth down if they fail to score or convert on third down. We can't fully implement our plan for fourth down until we have seen whether or not fourth down will occur.\n",
        "\n",
        "We need to aim our penalty shot in FIFA before taking the kick. We even need to wait to complete the details for the elimination rounds of the tournament until group play has ended. Until then, we don't know enough about which teams will advance to complete the bracket.\n",
        "\n",
        "In programming speak, sequential programs are sequential because it is critical that the results of one calculation be within the **scope** of the other calculations. If one sequential calculation cannot view the results of the prior calculation, then the second function cannot be completed.\n",
        "\n",
        "### Parallel Programs\n",
        "\n",
        "On the other hand, some calculations can be performed independent of the results of other steps. These tend to be calculations that can essentially be considered separate tasks, but part of a larger overall task. Some examples include\n",
        "\n",
        "- Batch processing of files\n",
        "- Non-sequential simulations\n",
        "- Serving recommended products to many users\n",
        "- Repeated random draws\n",
        "- Rendering polygons\n",
        "\n",
        "The key difference between serial and parallel programs is the dependency (or lack of dependency) of calculations on the results of previous calculations.\n",
        "\n",
        "- Serial programs rely on previous results\n",
        "- Parallel programs do not depend on the results of other calculations\n",
        "\n",
        "Parallel programs can occur simultaneously, allowing us to accelerate execution. If we can run four calculations simultaneously, then in theory we might be able to run 100 computations in the time that a serial program might run 25 similar computations.\n",
        "\n",
        "Parallel computations have enabled advances like improved graphics in video games, and have made possible the revolution in machine learning. Let's learn how to make parallel code work for our projects, as well!\n"
      ]
    },
    {
      "cell_type": "markdown",
      "metadata": {
        "id": "IoGHuaslOxaA"
      },
      "source": [
        "One place where parallel processing really shines is in estimating complex mathematical calculations. While some math can be solved algebraically, other math problems can only be solved computationally. The more computations we can perform in a given amount of time, the sooner we can find the solution to those problems. We can buy faster computers to speed up calculations, but we can also parallelize many calculations, giving us benefits without having to upgrade our computer!\n",
        "\n",
        "Some examples in which we will typically solve math problems with computation:\n",
        "- Estimating Producer/Consumer Surplus\n",
        "- Calculating probabilities from frequency tables\n",
        "- Integrating on complicated functional forms\n",
        "\n",
        "### Numeric Integration\n",
        "\n",
        "Often, when integrating complicated functions, there is no **algebraic** solution to the integral. This means that we need to estimate the value of the integral **numerically**. The process that we follow to estimate an integral numerically follows:\n",
        "\n",
        "1) Choose points at which to estimate the value of the function\n",
        "2) Choose bandwidth\n",
        "3) Multiply function values by bandwidth\n",
        "4) Add all estimates to calculate approximate integral\n",
        "\n",
        "![](https://github.com/dustywhite7/Econ8320/blob/master/SlidesCode/integralProcess.png?raw=true)\n",
        "\n",
        "Let's start by just defining a function to integrate. We can use\n",
        "\n",
        "$$ f(x) = \\frac{1}{1+x^2} $$\n",
        "\n",
        "as our example function. First, we need to write this function as a Python function:"
      ]
    },
    {
      "cell_type": "code",
      "execution_count": null,
      "metadata": {
        "id": "OdoST4LcOxaA"
      },
      "outputs": [],
      "source": [
        "# define any function here!\n",
        "def f(x):\n",
        "    # return the value of the function given x\n",
        "    return 1/(1 + x**2)"
      ]
    },
    {
      "cell_type": "markdown",
      "metadata": {
        "id": "B_cTheCxOxaB"
      },
      "source": [
        "Now, we need to write a function that can sample from our function, and calculate the area of the sampled rectangles, and then return an approximate area."
      ]
    },
    {
      "cell_type": "code",
      "execution_count": null,
      "metadata": {
        "id": "l3nV6NZYOxaB"
      },
      "outputs": [],
      "source": [
        "import random\n",
        "\n",
        "def serial_integral(nSample, f, xmin, xmax):\n",
        "  # determine points of estimation\n",
        "  sample = sorted([random.uniform(xmin, xmax) for i in range(nSample)])\n",
        "  # Calculate height at each point\n",
        "  value = [f(i) for i in sample]\n",
        "  # Calculate areas of rectangles\n",
        "  # We have to specially calculate the first rectangle,\n",
        "  #   because xmin is not part of our list of samples\n",
        "  area = [(sample[0]-xmin)*value[0]] + [(sample[i]-sample[i-1])*value[i] for i in range(1, len(sample))]\n",
        "  # Return sum as an approximate integral\n",
        "  return sum(area)"
      ]
    },
    {
      "cell_type": "markdown",
      "metadata": {
        "id": "cvezUIV3OxaB"
      },
      "source": [
        "This is our function for actually integrating a function `f` from `xmin` to `xmax` across `nSample` random intervals. Below is a picture of how this function gets (approximately) closer to estimating the true integral value as we increase the number of points at which we sample the function. Because integration is based on randomly drawn intervals, the convergence is not smooth. If we took many integrals at each bin number, however, we would expect this plot to become smooth.\n",
        "\n",
        "![](https://github.com/dustywhite7/Econ8320/blob/master/SlidesCode/integral.png?raw=true)\n",
        "\n",
        "### Parallel calculations\n",
        "\n",
        "The ``multiprocessing`` library is designed to create multiple sub-instances of the python interpreter called processes, with each process returning values that are independent of the other processes. In order to coordinate this effort, some computational power must be assigned to send off processes and to retrieve their results upon completion.\n",
        "\n",
        "This \"overhead\" means that parallel processing is not usually justified for very simple problems, and is reserved for computationally intensive problems, or where there are very many processes to be completed in one batch.\n",
        "\n",
        "Given the overhead of parallelization, it is not worthwhile to make a parallel version of our single integral function above. Instead, it IS worthwhile to create a function that can calculate the integral many times in parallel. Like we said above, convergence is noisy, but an average value for each given number of bins should be more stable.\n",
        "\n",
        "Let's see how much time we can save by making a function that will calculate an average value in parallel when compared to a serialized alternative."
      ]
    },
    {
      "cell_type": "code",
      "execution_count": null,
      "metadata": {
        "id": "TkBwfhANOxaC"
      },
      "outputs": [],
      "source": [
        "import multiprocessing as mp # This module is part of the\n",
        "\t\t\t     # python standard library\n",
        "\n",
        "def serial_average(n_bins, n_reps, f, xmin, xmax):\n",
        "  attempts = [serial_integral(n_bins, f, xmin, xmax) for i in range(n_reps)]\n",
        "  return sum(attempts)/n_reps\n",
        "\n",
        "def parallel_average(processes, n_bins, n_reps, f, xmin, xmax):\n",
        "  pool = mp.Pool(processes=processes)\n",
        "  results = [pool.apply_async(serial_integral, (n_bins, f, xmin, xmax)) for i in range(n_reps)]\n",
        "  results = [p.get() for p in results]\n",
        "  return sum(results)/n_reps"
      ]
    },
    {
      "cell_type": "markdown",
      "metadata": {
        "id": "y0slH_7LOxaC"
      },
      "source": [
        "Now let's explore what that function does."
      ]
    },
    {
      "cell_type": "code",
      "execution_count": null,
      "metadata": {
        "id": "F-ZQe_0VOxaC"
      },
      "outputs": [],
      "source": [
        "def parallel_average(processes, n_bins, n_reps, f, xmin, xmax):\n",
        "  pool = mp.Pool(processes=processes)\n",
        "  ...\n",
        "  return ..."
      ]
    },
    {
      "cell_type": "markdown",
      "metadata": {
        "id": "PtSbZeIlOxaC"
      },
      "source": [
        "The `mp.Pool` class provides the functionality to organize our processes, and to define the degree to which we want to spread our work across various **processes**. We can specify how many active processes there should be at any time with the number of processes.\n",
        "\n",
        "We need to take care to choose the right number of processes for our machine! In general, my experience has been that performance is best when you keep the number of processes at or below the number of cores available in your computer's processor."
      ]
    },
    {
      "cell_type": "code",
      "execution_count": null,
      "metadata": {
        "id": "2bEtLvMPOxaC"
      },
      "outputs": [],
      "source": [
        "def parallel_average(processes, n_bins, n_reps, f, xmin, xmax):\n",
        "  ...\n",
        "  results = [pool.apply_async(serial_integral, (n_bins, f, xmin, xmax)) for i in range(n_reps)]\n",
        "  ...\n",
        "  return ..."
      ]
    },
    {
      "cell_type": "markdown",
      "metadata": {
        "id": "OmqgyNDXOxaC"
      },
      "source": [
        "We next use the `apply_async` method to pass the values that we want our pooled instances to calculate. We need to provide the function to be executed, as well as the arguments for the function in each iteration with each each of the arguments an element in a tuple. In our case, we are not varying the arguments, so we provide a single tuple that never changes, but we could vary those arguments whenever necessary or desirable."
      ]
    },
    {
      "cell_type": "code",
      "execution_count": null,
      "metadata": {
        "id": "UbVqz1uAOxaC"
      },
      "outputs": [],
      "source": [
        "def parallel_average(processes, n_bins, n_reps, f, xmin, xmax):\n",
        "  ...\n",
        "  results = [p.get() for p in results]\n",
        "  ...\n",
        "  return ..."
      ]
    },
    {
      "cell_type": "markdown",
      "metadata": {
        "id": "IEfSeScTOxaC"
      },
      "source": [
        "The next step is to use the `get()` method on each element of our returned processes. This will fetch the return statement values from each of the processes that we executed in the last line.\n",
        "\n",
        "At this point the parallel computation is complete. The remainder of the function will look and work just like the results from our `serial_average` method.\n",
        "\n",
        "\n",
        "### Timing it\n",
        "\n",
        "Next, it is time to write code that will allow us to test our parallel and serial performance."
      ]
    },
    {
      "cell_type": "code",
      "execution_count": null,
      "metadata": {
        "id": "mR1oD4sLOxaC"
      },
      "outputs": [],
      "source": [
        "import timeit # library for timing execution of code\n",
        "\n",
        "benchmarks = [] # list to store our execution times\n",
        "\n",
        "benchmarks.append(timeit.Timer('serial_average(10000, 100, f, 0, 1)',\n",
        "  'from __main__ import serial_average, serial_integral, f').timeit(number=1))\n",
        "    # Note that we need to include a second line\n",
        "    # that imports our functions from __main__.\n",
        "    # This tells the timer what needs to be IN SCOPE\n",
        "\n",
        "benchmarks.append(timeit.Timer(\n",
        "  'parallel_average(2, 10000, 100, f, 0, 1)',\n",
        "  'from __main__ import parallel_average, serial_integral, f').timeit(\n",
        "    number=1))\n",
        "    # Need to include number of processes\n",
        "    # when timing the parallel implementation"
      ]
    },
    {
      "cell_type": "markdown",
      "metadata": {
        "id": "pkmx5DT0OxaC"
      },
      "source": [
        "Amazing! When timing the output on my virtual machine (not at all a powerful computer), the parallel version runs nearly twice as fast (0.36 seconds vs 0.69 seconds). Even in a fairly trivial example, we see significant performance gains.\n",
        "\n",
        "When I ran a similar trial on my computer with 16 cores, I saw the following performance pattern:\n",
        "\n",
        "![w:750](https://github.com/dustywhite7/Econ8320/blob/master/SlidesCode/performance.png?raw=true)\n",
        "\n",
        "On 16 cores, the parallel version of this problem executes over 5x faster than the serial version! Some observations:\n",
        "\n",
        "- This was done on a 16-core processor, which is an expensive way to get a performance gain\n",
        "- Creating too many processes (going past 16 to 32) actually started to slow the computations down\n",
        "- We need to be aware of the hardware that we are utilizing when designing parallel code\n",
        "\n",
        "If you are unsure of how many processes you should run on your machine, the following command will show you how many CPU cores are available to Python:\n",
        "\n",
        "```python\n",
        "mp.cpu_count() # Tells us the number of available CPUs\n",
        "```\n",
        "\n",
        "Now it's your turn to give it a go!\n"
      ]
    },
    {
      "cell_type": "markdown",
      "metadata": {
        "id": "wHC4YdzyOxaC"
      },
      "source": [
        "## Solve-it!\n",
        "\n",
        "Simulate 1,000 draws from a multivariate normal distribution and calculate the average value of the dependent variable, but do it 100 times! This is called \"bootstrapping\" and is a critical process in many statistical models and simulations. Draw from the following equation:\n",
        "\n",
        "$$ y = \\alpha + x_{1} + 2\\cdot x_{2} + \\frac{1}{2}x_{3} + \\epsilon $$\n",
        "\n",
        "where\n",
        "\n",
        "$\\alpha \\sim \\mathcal{N}(15,2)$, $x_1 \\sim \\mathcal{N}(3,5)$,\n",
        "\n",
        "$x_2 \\sim \\mathcal{N}(10,1)$, $x_3 \\sim \\mathcal{N}(8,8)$, and\n",
        "\n",
        "$\\epsilon \\sim \\mathcal{N}(0,1)$\n",
        "\n",
        "$\\mathcal{N}(\\mu, \\sigma)$ represents the Normal distribution with mean $\\mu$ and standard deviation $\\sigma$\n",
        "\n",
        "Write functions to generate all values and calculate . Test and time these draws using serial and parallel programming (2 cores), and report the difference in performance between the two versions.\n",
        "\n",
        "\n",
        "Call your serial function `sCalc`, and your parallel function `pCalc`, store your results from each function as a list, with the lists named `sResults` and `pResults`, respectively.\n",
        "\n",
        "Finally, store the timed values for each run as `sTime` and `pTime`, respectively. All code for this exercise should go in the cell labeled `#si-exercise` below.\n",
        "\n",
        "**NOTE: Because we are running code on a virtual machine, and because the problem is not very computationally intensive, we should not be surprised if the serial version of our code outperforms the parallel version for this assignment.**\n",
        "\n",
        "**OTHER NOTE: Because we need this to run in a reasonable amount of time, we are only running 100 rounds of sampling. Typical bootstrapping procedures default to 10,000 rounds as good practice.**"
      ]
    },
    {
      "cell_type": "code",
      "execution_count": 4,
      "metadata": {
        "colab": {
          "base_uri": "https://localhost:8080/"
        },
        "id": "R1Ov-20gOxaD",
        "outputId": "a4761fcf-9e03-4b69-b21f-06cd32dae3b2"
      },
      "outputs": [
        {
          "output_type": "stream",
          "name": "stdout",
          "text": [
            "[41.86539181367084, 42.23442130530491, 41.96640218134895, 42.10913190944101, 41.62153800464946, 41.9727251594511, 42.05450553251994, 42.03064460302053, 41.89209593755697, 41.81102649326128, 42.111616266503056, 42.056535329424996, 41.813366906090515, 41.67319765364333, 41.96492375841, 42.45577287759231, 41.69635459743558, 41.864385975836065, 42.11157611656842, 42.28967568439983, 42.17431981509517, 41.7574221588389, 41.86066047485352, 41.87022434157844, 42.11321239141809, 42.28609014617835, 42.018935409712526, 42.045416634642635, 42.05191190056255, 41.767851772990284, 42.233862703528175, 42.06389866831861, 42.04550482286034, 41.9294513097128, 42.17020965374662, 42.23955189466795, 42.43459414056625, 42.07072526852637, 42.31944661954089, 41.85342766789997, 42.03724352873219, 41.672471245036014, 41.947462019232056, 42.18851122333638, 42.171054169632, 42.55599573959499, 41.98464079693297, 41.573980955800494, 41.840422899264524, 41.84007456152445, 41.88860383433377, 42.28805353075988, 41.873690904854364, 41.85542746893485, 42.059633267267934, 42.13929934041104, 41.95285806131648, 41.784620265744955, 41.95692398369554, 41.99717697208186, 41.75677831673941, 41.968747207654, 41.733833927675455, 41.70167417224501, 41.947861360574144, 41.89874375262808, 41.81743807087538, 41.88580666618328, 41.84405445005023, 41.944944071049306, 42.02299468492894, 42.115220410356805, 41.889523430553865, 41.87808058601253, 41.81499219084393, 42.224397714251204, 41.8512935187809, 42.03247673807017, 42.26208388790321, 42.37036665042121, 42.2916810037782, 41.5939898776376, 41.812624079358564, 42.05456260942801, 42.0486058242476, 42.00460278142811, 42.26791323958268, 42.06097132673848, 41.89400397174528, 42.27998033188979, 42.18649835939509, 42.17997106384415, 42.32116404969856, 41.979196026116476, 42.149052694336646, 41.98765824896993, 42.02120899980046, 42.033181036682414, 41.82554781364175, 41.832441184927866, 42.0590296408249, 41.91813351064683, 42.507626804149346, 41.87884520775637, 42.13117658227152, 41.999101488641436, 41.68077460007506, 41.5627822819065, 42.003959451539075, 41.65791261085637, 41.5402732797978, 42.40498639397973, 41.873399134625956, 42.35320671373172, 42.37781175601727, 41.999688942111106, 42.104297102773906, 42.320362352587566, 42.03044179537525, 42.266376839574356, 42.106515925254264, 42.11234690811405, 41.398544572182594, 41.64159198970351, 41.997352646800124, 42.220785493104906, 41.854590738596265, 42.246418379480595, 41.97929802567199, 41.948103341911015, 42.12630393558576, 42.212060620236144, 41.782207178845596, 42.18035342404891, 42.082463323224175, 42.11928535215186, 41.99349468664678, 42.04496318225077, 42.18956269726585, 42.231436081047434, 41.97358463351463, 41.90644540849256, 42.03557653036245, 42.01716838839988, 42.27986256688659, 42.37166585661564, 42.22235110116158, 41.75790076876359, 41.988802708453036, 41.86954794516574, 41.953209074932076, 41.79615904373063, 41.68379845943401, 42.07906284485377, 42.034674607106375, 42.24690834022174, 41.96673879198745, 41.82874247146528, 42.04313138637481, 42.12089194569216, 41.835575943835586, 41.841350727619506, 41.98044881761018, 42.24999067843317, 42.27156365159701, 41.713480867830135, 41.86273143488448, 42.02690407728379, 41.897760178984804, 42.23647863303091, 41.89162148759811, 41.70385603671286, 41.87141448485048, 41.84327001007169, 41.868277484650896, 42.04248798027332, 42.01809106183615, 42.32888686858089, 42.14884306903415, 42.03309811327625, 41.96588354670012, 41.9879593973351, 41.772183317254296, 41.95939148675624, 41.731413170084004, 42.17411001303701, 41.59778457749546, 41.798841280820284, 42.13770867827376, 41.88993507748846, 42.29722317927288, 41.725974486804596, 41.85801048305207, 42.14383136252209, 42.051349540155805, 42.30241073990059, 42.03193896407941, 42.1459496295695, 41.80723663692416, 42.018410393678494, 42.17224600720433, 41.75353474938285, 41.99421386756723, 41.67717623806087, 42.111947286731066, 41.94278552039963, 42.074358000988575, 41.480882138470655, 42.20177485118112, 41.72615350172484, 42.20333549340625, 42.03448380032027, 41.857906237999735, 42.1181254817116, 41.67682155927179, 42.00087488960363, 41.90247489720283, 41.73242111263456, 42.10712605432276, 42.311173928218224, 42.31386396782757, 42.39799326072236, 41.59518440638375, 41.75476782700253, 42.080844128402155, 41.97598782468379, 42.31797427453121, 41.88522640928679, 42.30802435207494, 41.86329426308477, 41.922790507241, 41.88192275678946, 41.7843484777656, 41.804240185117216, 42.47486894347734, 42.076060209125515, 41.76319292414027, 42.0429973207067, 42.318380279183216, 41.83972428860693, 41.60273047320789, 42.192952531408906, 41.783798623284675, 42.246630128607414, 41.49892532176986, 42.229735241949314, 41.98398295447587, 41.86069144831825, 42.38958388692752, 42.28414688352448, 42.03480446527981, 42.23166187938888, 42.18766645856391, 41.87429971484434, 42.17515255683175, 42.120518498369336, 42.12900172924214, 41.84659531348646, 42.01549637851615, 41.740563743505874, 41.83710056352019, 42.07807006814635, 42.37953313109897, 41.573836918694795, 41.75349779460596, 42.03954065465426, 42.06893939880804, 42.28842115300305, 41.90275293507887, 41.689936846749816, 41.977225143710726, 41.65055692082672, 42.10343248458163, 42.28808319271939, 42.25517465108332, 42.04847476440632, 41.802855599160374, 41.74515195824973, 42.04134081311282, 42.25003437387682, 42.25775966927453, 42.26690334840939, 41.497778470835776, 41.51564431028567, 42.013781226108534, 41.77101550427364, 42.08715431172009, 42.14589396744937, 42.75440292822098, 42.12551634485974, 41.753062761560535, 41.84335562298536, 41.81460503806938, 42.041816864415274, 42.0030173037702, 41.903747542639266, 41.614935071077866, 42.0475376831505, 42.07863268766978, 42.16915723334537, 42.127062527458, 41.813128936922205, 41.933303444671665, 42.12726280932414, 41.97295894715596, 41.77812829820578, 42.02171393859739, 42.125361664389665, 42.29077199167136, 41.89590956374178, 42.01340285454854, 42.165526713533275, 41.92118129996332, 41.54059618698275, 41.95764710004663, 42.06675070014779, 41.77028779993641, 42.23149996230534, 42.00844111900791, 41.693592655638945, 41.83846895898715, 42.06782801071583, 42.2002285936879, 41.927551888768356, 42.13856971098347, 41.99977046188995, 42.07859519302162, 41.86103706291686, 42.297263833619894, 41.99954270908038, 42.07231282775283, 42.06917557684992, 41.84894784335585, 42.18295424289764, 42.317903521756016, 42.29150321175315, 42.09184496470299, 41.60449819965543, 41.789098105751805, 41.9755696572889, 41.96164962722527, 42.0261035788879, 41.571895399381795, 42.30199145290158, 41.77229526133851, 41.585949719761075, 42.24677883851328, 41.96322630493877, 42.112074704214244, 41.9283262463323, 41.19488187765182, 41.77903910380648, 41.91388501050778, 42.233304286586915, 41.57111172004648, 41.91458759069156, 42.327463743325865, 41.66886540841362, 42.03165392376037, 42.12868736515572, 42.05124618121977, 41.507058091625616, 42.369043303404894, 42.09733015434768, 41.929761450002715, 41.584195572305084, 41.8669265131846, 41.97453775271203, 42.034094004684334, 42.205959878710374, 41.767178040085376, 41.81565802093064, 41.72062630071433, 42.10436196700983, 42.1808455442293, 42.015112307598436, 41.78424174791458, 42.25240965736705, 42.32410529564026, 42.149414210874994, 41.53237296268066, 41.82919019788236, 41.861558832020584, 41.89838929658008, 42.05341619387966, 42.07586252054332, 41.92808903640482, 41.64915372621115, 41.86214883654764, 41.90205848852707, 41.7649692303125, 42.0027586071443, 41.988601053917215, 42.4611740022166, 42.25072183195494, 41.92578869697515, 42.17343188546201, 42.13951157010487, 41.941493159513485, 41.86949825510615, 42.06675749334172, 41.97744243119162, 42.28872130486001, 41.49083823648461, 41.990723068026796, 42.184620574780666, 42.09907868630784, 42.14744170090054, 41.90310562945371, 41.925956895604855, 41.841682751184706, 42.16153504167053, 41.7658578739613, 41.920040222436754, 42.21108212071053, 42.10973221059472, 41.96256780948625, 41.96739773779469, 42.2939027463977, 42.14635996897012, 42.1744374343285, 41.96661457827944, 42.21962076915167, 41.90943889441058, 41.77889782681661, 41.704468029729085, 41.9621192686173, 41.82751297872713, 42.01267739885363, 42.36560076789223, 41.972270116076494, 41.928620195404015, 42.17128510331594, 41.597897386659156, 42.11480681387756, 41.591722808908024, 42.044545902582485, 42.11268340588556, 41.82654922721971, 42.109376247544915, 42.34608768258646, 42.145071407103124, 42.10691361297719, 42.30908873908511, 42.15768950736732, 42.14369424455955, 42.05119554252729, 42.41480837180379, 41.68626428673168, 41.790920224129046, 41.912995869968604, 41.87726198010263, 41.84517402244168, 42.17298573017231, 42.553044858192216, 41.65455264505571, 41.98967015764206, 42.08919846609209, 41.66520120331695, 41.95274302436609, 41.709685585793224, 41.720320035663185, 42.02072198828736, 42.02460565452143, 41.58047924270231, 42.1524279163161, 41.84289947055851, 42.29773160817781, 42.1165486054542, 41.69779595352357, 41.80047934366224, 42.16938196661797, 41.920154325406315, 41.789637242746245, 41.67372146821646, 42.183173924328756, 41.61127358692098, 42.04978443970457, 42.48634997517494, 41.902003832629845, 42.15430378629751, 41.96537764775821, 41.92784045684148, 42.091268883872864, 42.29589892181019, 42.31084353936977, 41.806517451732795, 41.60414651152696, 42.05594848065681, 42.26359682283351, 41.75279597050972, 41.77146884675937, 41.70995930416932, 41.614326777055, 41.714704320869586, 42.16567505383496, 41.877935389848965, 42.18708233836336, 42.17588947565558, 41.79870608461443, 41.79250831498956, 42.16455972595242, 41.88948978980975, 41.8919657057399, 42.05923599369927, 42.25809713526565, 42.220378272212066, 42.27848647655664, 41.451983293958705, 41.660086746002484, 42.33708213572188, 42.041366236224185, 42.105039152663316, 42.06559027910295, 41.928420333786995, 42.01255968475293, 42.019530149127675, 41.778197606354745, 42.03243515214727, 42.202394510314406, 42.05921461726434, 41.91608911580928, 41.73746287285232, 42.11039475614371, 41.51742951365316, 42.182847191829936, 42.00151645524013, 41.979974957872, 41.46222304950895, 42.03283941217168, 41.60132183543124, 41.52594010198452, 41.99119425805015, 41.83084479717005, 41.896549091056045, 42.063442414880164, 41.53634379530585, 41.906398744289625, 42.16360912941808, 41.81735683159369, 41.786441184843014, 42.201891693749026, 42.05572367029257, 42.02628088102159, 42.290065717139115, 41.782182696295465, 41.87338415057038, 42.03786275690139, 41.93730856513894, 42.177486082909745, 41.99389896199495, 42.3126776796226, 42.389942313513934, 41.96488800923938, 42.33885177122103, 41.76691962439252, 41.843533876361704, 41.87756173002363, 42.169151903578516, 42.264172512961984, 42.412897536787014, 41.820732893713526, 42.478618335080654, 41.97065201469153, 42.009291943849384, 42.104683067820744, 42.148679048013214, 42.25725559680547, 41.703646462213, 41.97166890536627, 42.48886273924781, 41.79603942642688, 41.99526818498011, 41.96176963375442, 42.158310331211965, 42.39431240242749, 42.34069207437742, 42.0332736578275, 41.902171415828846, 41.55922512879099, 41.945929857418854, 41.885472487245586, 41.99475487039326, 42.18410508234476, 41.92507483340349, 41.83299571129965, 41.922426091512335, 41.88095600259859, 42.665734039493195, 42.00877627083073, 42.23646677635208, 42.046889408892014, 42.1986291048557, 41.91267153967037, 42.111424791663495, 42.176463440744485, 41.87627233309138, 41.812022036333886, 42.02639745286123, 41.882942451889505, 42.01373079125518, 41.96069823043952, 41.71369667241296, 42.009957935085296, 42.02849956361946, 41.94611855906031, 41.964505391013866, 42.23116214902039, 42.03384214762955, 41.97320798118847, 42.11501380052579, 42.24256432264165, 41.829508575265805, 41.85306420787418, 41.89781512725838, 42.113267966535226, 41.89869129740004, 41.97305922384779, 41.85614192354266, 42.036136466108786, 42.56463011206652, 42.024433883948944, 41.90466542577333, 42.233588714816364, 42.31764488502049, 42.01998498168648, 41.83864590814845, 41.826373167258254, 42.02528048725412, 42.1811856235795, 41.595079284671826, 41.8860160255072, 42.37896896836805, 42.07259067564129, 42.0175148624628, 41.767988262166384, 42.0358016026299, 42.61133824787006, 42.18426937196502, 41.90321887523006, 42.002848052584895, 41.9945235938684, 41.717827673706495, 41.75948853522532, 42.08586872658683, 42.335859123532664, 42.14044683071073, 42.23766281785071, 41.77226711783842, 41.79573253569113, 42.17771294709564, 42.001832416424385, 41.92078189785481, 41.700155935276186, 42.0238237661624, 41.83928395795703, 42.15555035886347, 42.31203316444638, 41.98820439949296, 42.19114743722281, 42.56963302324509, 41.81755054075814, 41.828814200892445, 42.06313832869999, 41.948264573969254, 41.94520938143515, 41.949442986380426, 42.214552892484015, 41.57206696255086, 42.02031675172206, 41.51918192059515, 41.82180122444504, 42.422572014604015, 42.18679479627572, 42.26799862236952, 41.974753468134516, 42.35904204634891, 42.032607224580296, 41.65213549425821, 42.09409005174302, 41.58366734695653, 42.24662009356561, 41.68575243510019, 42.313024052248274, 41.59582796173327, 42.08711708358224, 41.710740169156985, 41.83658402888743, 42.17848839230657, 42.07138980438765, 41.68051849259029, 42.03767275638641, 42.134798247057994, 42.24287025151334, 42.095780804480924, 41.443017171718196, 41.87925572967256, 41.82271860527842, 42.215408167595015, 42.29162881571395, 42.07605432867893, 42.09683773675643, 41.93433191288835, 41.941182499534726, 42.13615298797809, 42.09989516762336, 42.1266106829663, 41.65758405699395, 41.76931238720694, 41.81459579660576, 42.42417955789468, 41.841262228992385, 42.22443874922524, 42.460914182022314, 41.90353642801058, 42.28538075357289, 42.463775174910495, 42.08391782232649, 42.16409986163149, 41.96334653510536, 42.38114226933354, 41.770169077872495, 41.93874400672193, 42.008295875238225, 41.911764403068744, 42.14991408081578, 42.517685640435, 42.120931613999005, 42.03639930433363, 42.07087135894221, 42.35770607558794, 42.08643168305635, 42.24522035652549, 41.62935071679455, 41.883099225758315, 41.80890158597615, 41.55212688919097, 42.173481373429475, 41.89565157162366, 42.22774378591105, 41.639076902543444, 41.76850543123517, 41.70353066828567, 42.22832933039806, 42.11395845909921, 42.17731381911415, 41.64136553836283, 41.79788598330463, 41.811782355595156, 42.05118711850396, 41.84238556429051, 41.57771521831128, 41.86042248459397, 42.21398213295151, 41.91743909845399, 42.21083634572626, 41.78871334643342, 42.10412572400182, 42.177583691603736, 41.9910975160907, 42.02652372503441, 41.65330915906487, 41.69139112982186, 42.28422998982871, 42.325357561668575, 42.19580142990606, 42.22035356685396, 41.88992336629556, 42.260022668069524, 42.007699156576756, 41.90785371270102, 41.80789171187833, 42.11532985225058, 41.98177394140102, 41.96239784896269, 41.864263893816755, 42.077404462569405, 42.230289394657866, 42.28092583557352, 42.27798387649663, 41.40317729226014, 42.129713418200964, 41.63234242161979, 42.204653960453214, 41.88961121132744, 42.289122559427575, 42.00834081390533, 41.92027982375652, 42.120604101304636, 41.48614525240319, 42.267968649586564, 41.878133200159255, 42.23184355330956, 42.01716660034187, 41.93489572582377, 41.63461321543639, 41.871461616337776, 41.9277276011301, 42.06718962637015, 42.27236494586046, 41.96207203896639, 42.00788862016441, 42.138938365992544, 41.85972877717061, 42.02076358462225, 42.13455258131951, 41.98616418286017, 42.026641432811125, 41.521838368453594, 41.92613333085482, 41.869028962694934, 42.424624869381255, 41.67804430762597, 41.491889884309074, 42.12190348600007, 42.48014534440198, 41.607850469872616, 41.80757991149144, 42.251997866106976, 42.245509422633226, 42.02609408284358, 41.73188895958422, 41.88397498291634, 41.80454539503037, 42.077694180207665, 42.15212932387047, 42.31334614423253, 42.1339692182057, 42.1466921300996, 41.531784812362964, 42.14663939045949, 42.02841177673124, 41.73815626272843, 41.760300988203866, 42.31290227527482, 41.902460634542905, 42.57566882241859, 41.845800757957086, 41.86588045244329, 41.54271680922814, 41.78226992441894, 42.41533301759929, 42.39218529785646, 42.01483438786091, 42.039689862685336, 41.98946380491212, 41.65064394268709, 42.316268825722105, 42.403476649969406, 41.76763357034141, 42.18614360250793, 41.69370667586285, 41.917424780303946, 42.00231764474099, 42.13997419760886, 42.115673799991136, 42.07509339889287, 41.84030451319161, 41.58096698220943, 42.226716269701214, 41.64761599748238, 42.32295673378828, 42.07004977975854, 42.03406429889737, 42.196359266816174, 41.80264922386577, 42.39671273536197, 42.22143121951399, 42.28945763193775, 41.99720273085707, 42.26203046950187, 41.61025915332108, 42.11767759151099, 41.95051502356091, 42.02472446346654, 42.079512900608826, 42.10136685754573, 42.006246682372044, 41.51118930481549, 41.707830715923265, 41.89600334827452, 42.238589889616215, 42.22572476807056, 41.88063416417912, 41.71885371996748, 41.59936694598346, 41.97808578240541, 41.42480300637151, 42.09995120846516, 41.6092471732346, 42.09129308369757, 42.21630357738427, 41.85976351575791, 41.70726884822122, 42.03019407696108, 41.45165880575037, 41.93576800358407, 42.21123908137833, 42.12186152115492, 41.57619930548661, 42.00308137936886, 42.407097501937486, 42.14959292263852, 42.05900624108635, 41.95669274402843, 41.899541045998575, 42.09824182237385, 42.27766555861386, 42.29752576366877, 41.95505932999695, 41.98282143612056, 42.10081666060013, 41.79683020552012, 41.88238165236473, 42.03492091292666, 41.657336965467486, 42.19019459916225, 41.72925609386807, 42.122037742151846, 42.26287086634932, 42.080024269053396, 41.67751509634691, 41.87032906625197, 42.274993342433326, 42.18689513775823, 41.98991935059587, 41.78914832695523, 42.38511819674833, 42.137948002039245, 41.990175675927524, 42.2499817939044, 41.79129306156152, 42.04775434556867, 41.82533709541194, 41.41811394834815, 41.87531902562584, 41.80178048796433, 42.146182700375356, 42.41062794555338, 42.281017465881874, 42.0831064291542, 41.91234490216932, 42.160050104376076, 42.051093742363705, 41.8363196762718, 42.1514770286897, 42.4645638981428, 42.411536806448595, 42.313467890962, 41.50876366440729, 41.85648869072621, 41.934524281062025, 42.015607454051, 42.12765328260344, 42.05560936399606, 41.771080222980295, 41.37614263341339, 41.93711573888453, 41.62860985773275, 41.954064107711574, 42.11286225135648, 42.064559227968275, 42.12805929612939, 41.58427832678279, 41.86619857630911, 42.14219892237661, 42.40658070485817, 42.01530415702934, 42.13392435475148, 41.73664119746497, 41.90547856730093, 42.18659797485101, 41.819662228114325, 41.84327714037333, 42.26359365747328, 41.7635988574696, 42.03596858090004, 42.031296673404945, 41.8356980130266, 42.095888090909575, 41.93547051089211, 42.04192389485844, 42.34036364153011, 41.71803367676574, 42.26726154621927, 42.12201094910953, 41.955832800236045, 42.113841224028214, 42.16411169373384, 41.4522365770092, 41.721631918817934, 42.665313721900496, 41.85894507470892, 41.868369680059274, 41.90181307841295, 42.3818890854506, 41.70359328614372, 41.930967486998185, 42.03394536589933, 41.55925682312716]\n",
            "[42.05336075669607, 42.05336075669607, 42.046094703682186, 42.046094703682186, 42.075427391545325, 42.075427391545325, 42.12715746475493, 42.12715746475493, 42.1472183223811, 42.1472183223811, 41.74352381545737, 41.74352381545737, 41.98852116713866, 41.98852116713866, 41.693207890948806, 41.693207890948806, 42.24268400004614, 42.11167527890246, 42.35240473545321, 42.33930318272894, 42.39606486581413, 41.96962342356846, 41.88279837397131, 42.24268400004614, 42.11167527890246, 41.72580697951603, 42.35240473545321, 42.33930318272894, 41.83932216505963, 42.39606486581413, 42.08826336983524, 41.96962342356846, 41.91981718634422, 41.833335320255706, 41.88279837397131, 42.13064879048585, 41.72580697951603, 42.1261109980808, 41.83932216505963, 42.07101053174457, 42.08826336983524, 42.4320543670029, 41.91981718634422, 41.945110685382595, 41.833335320255706, 42.464501830020176, 42.13064879048585, 42.1769848641099, 42.1261109980808, 42.28593753672064, 42.07101053174457, 41.968320151599976, 42.4320543670029, 41.27616240036645, 41.945110685382595, 42.15898909941986, 42.464501830020176, 42.31869766873994, 42.015382352280675, 42.19100198380719, 41.91937576162742, 42.27874833203599, 42.1769848641099, 42.29336092168608, 42.28593753672064, 42.11288761668077, 41.968320151599976, 42.29077612910648, 41.27616240036645, 42.023205707369065, 42.15898909941986, 42.22907759982652, 42.15004881198142, 42.14485486673085, 42.31869766873994, 42.015382352280675, 42.30554334132576, 42.29277760073066, 42.19100198380719, 41.88316289977402, 41.91937576162742, 42.27874833203599, 42.223581475970995, 42.157384727473925, 42.29336092168608, 41.70226199600242, 42.61040582388446, 42.07125011219109, 42.34047860308572, 41.83890881599787, 41.88478513599645, 42.25611183027787, 42.11288761668077, 41.98034201423785, 42.29077612910648, 41.808051387793185, 42.023205707369065, 41.860349683448206, 42.07895744263574, 42.049251003635675, 42.22907759982652, 42.159143494668754, 42.15004881198142, 42.18853706598837, 42.14485486673085, 42.31094545205551, 41.50731772874636, 42.31848161624037, 42.13450048369834, 41.98259637877339, 42.30554334132576, 42.29277760073066, 42.15056493048908, 41.88316289977402, 42.19285100049853, 42.223581475970995, 41.711080153852485, 42.03485672776185, 42.157384727473925, 41.70226199600242, 42.61040582388446, 42.07125011219109, 42.34047860308572, 41.83890881599787, 41.88478513599645, 42.25611183027787, 42.3331710691974, 41.98034201423785, 41.808051387793185, 41.961345907447466, 41.860349683448206, 42.096495955494525, 42.07895744263574, 42.11072495729079, 42.049251003635675, 42.46822592914365, 42.159143494668754, 41.68332524402013, 42.18853706598837, 41.99386326264009, 42.31094545205551, 41.99638442890928, 41.50731772874636, 42.31848161624037, 42.05770099713035, 42.13450048369834, 41.833165309879895, 41.98259637877339, 42.15056493048908, 41.82224941220535, 42.01089766854195, 42.1687048702302, 42.34186654001169, 41.672073349693875, 41.8678869829715, 42.08493290583748, 41.95136356573335, 41.841189898651585, 42.19285100049853, 41.711080153852485, 42.08348403540215, 42.03485672776185, 42.3331710691974, 41.961345907447466, 42.096495955494525, 42.11072495729079, 42.36955834693445, 41.84884049694118, 41.849438904666336, 42.46822592914365, 41.91492056120939, 41.68332524402013, 41.981132912369794, 41.99386326264009, 42.00849192856719, 41.99638442890928, 42.16090033991593, 42.05770099713035, 41.92109413024151, 41.65533694448855, 41.833165309879895, 41.832250240053284, 42.01267135467559, 41.82224941220535, 42.08014024915099, 42.01089766854195, 42.29302173553962, 42.1687048702302, 42.02229225491303, 42.34186654001169, 42.021285138602885, 41.672073349693875, 41.94174609439836, 41.88884987868576, 42.1586813919995, 41.8678869829715, 42.08493290583748, 41.95136356573335, 41.89848648959583, 41.841189898651585, 42.08348403540215, 42.0286451241614, 42.36955834693445, 41.79851504281496, 41.84884049694118, 42.205540527779334, 42.03074252464291, 41.849438904666336, 42.04354931858166, 41.91492056120939, 42.4011673898711, 41.981132912369794, 42.07899741256761, 42.00849192856719, 42.34299926931093, 41.57728508334908, 42.16090033991593, 41.890297372607186, 41.92109413024151, 41.65533694448855, 41.832250240053284, 41.87871181124501, 42.01267135467559, 42.237055421935615, 41.56780993056808, 42.08014024915099, 42.03270576762365, 41.78796119227809, 42.13847424730904, 42.29302173553962, 41.93049746217493, 41.55419589502496, 42.02229225491303, 42.26973875091199, 42.021285138602885, 42.17328375070512, 41.94174609439836, 41.83707714278995, 41.88884987868576, 42.1586813919995, 41.72397559733122, 42.37287807219103, 41.90732515643896, 41.89848648959583, 41.63434282729881, 42.14940023682795, 42.0286451241614, 42.23113161629576, 41.79851504281496, 42.47487109167179, 42.24611221687501, 42.205540527779334, 42.03074252464291, 42.04354931858166, 42.2625333140564, 42.4011673898711, 41.81788203345855, 42.07899741256761, 42.23551412722462, 42.34299926931093, 42.02049744641253, 41.57728508334908, 41.83568619734358, 41.890297372607186, 42.02520578476753, 41.87871181124501, 42.25452827328083, 42.237055421935615, 42.103611398952594, 41.56780993056808, 41.975073096956635, 42.03270576762365, 41.831041783696456, 41.78796119227809, 42.28677802166746, 42.13847424730904, 42.50578168434487, 41.93049746217493, 41.969426642382786, 41.55419589502496, 42.48356151440043, 41.97436912610245, 42.26973875091199, 42.14127920514278, 42.17328375070512, 42.23268444560817, 41.83707714278995, 41.89762371345279, 41.72397559733122, 42.22207945044839, 42.37287807219103, 42.21481585760595, 41.90732515643896, 41.84615668381576, 41.63434282729881, 41.957454381829656, 42.26114995216942, 42.14836932357197, 41.80791085126356, 41.94981289977543, 41.84367655876269, 42.07996886913749, 42.47845694049586, 41.92108699245383, 42.14940023682795, 42.23113161629576, 42.47487109167179, 42.24611221687501, 42.2625333140564, 41.81788203345855, 42.23551412722462, 42.02049744641253, 41.83568619734358, 42.02520578476753, 42.25452827328083, 41.800906704314414, 41.85056678445133, 42.103611398952594, 42.16130361825617, 41.975073096956635, 41.692734709955346, 41.831041783696456, 42.143644505687, 42.28677802166746, 42.39953196319544, 42.50578168434487, 41.63350909833831, 41.969426642382786, 41.7808277152907, 42.48356151440043, 41.812327827288634, 41.97436912610245, 42.149980903064204, 42.14127920514278, 41.98257728083184, 42.23268444560817, 42.11860371510991, 41.89762371345279, 41.9716596274343, 42.22207945044839, 41.9875049219988, 42.21481585760595, 42.29985863996144, 41.84615668381576, 42.15443145142078, 41.957454381829656, 42.22248647692478, 42.26114995216942, 42.14836932357197, 41.80791085126356, 42.03973589474999, 41.94981289977543, 41.883226631753985, 41.84367655876269, 42.0941818808761, 42.07996886913749, 42.47845694049586, 41.92615052465873, 41.92108699245383, 42.11689649034758, 41.800906704314414, 42.04597485939154, 41.85056678445133, 42.293869869882926, 42.16130361825617, 41.953016675769064, 41.692734709955346, 41.91210218970468, 42.143644505687, 41.67576244288181, 42.39953196319544, 41.88951049194823, 41.63350909833831, 42.03269743618338, 42.000771185855285, 41.86335229011802, 41.7808277152907, 42.02235221721933, 41.812327827288634, 42.149980903064204, 41.99153634116763, 41.98257728083184, 42.021370830950616, 42.11860371510991, 41.9716596274343, 41.787891720052194, 41.9875049219988, 41.726499527844496, 42.29985863996144, 41.88148439135717, 42.15443145142078, 41.96826313377253, 42.22248647692478, 41.73011944893386, 42.03973589474999, 42.069911390320854, 41.883226631753985, 42.04199219770925, 42.0941818808761, 42.13383625551233, 41.92615052465873, 41.72314122627067, 42.11689649034758, 42.1261517025991, 42.04597485939154, 42.07772088452707, 42.293869869882926, 42.191804341451565, 41.953016675769064, 41.940084415561344, 41.91210218970468, 41.81264886216197, 41.67576244288181, 41.838565311117186, 41.88951049194823, 41.96877948461724, 42.03269743618338, 42.000771185855285, 41.96640607173086, 41.86335229011802, 42.24476913263917, 42.02235221721933, 41.70382847772317, 41.99153634116763, 41.84800492439817, 42.021370830950616, 42.25095034702136, 41.787891720052194, 42.13755155943486, 41.726499527844496, 42.309260534942396, 41.88148439135717, 41.77675367148514, 41.96826313377253, 42.32763842477656, 41.74159955780761, 41.73011944893386, 41.98641582733954, 42.069911390320854, 41.73270025149605, 42.04199219770925, 42.05900196339712, 42.13383625551233, 42.34127381799322, 41.72314122627067, 42.19444334945968, 42.1261517025991, 42.14304422271718, 41.96302365660045, 42.07772088452707, 41.773165463206304, 42.191804341451565, 41.88037419669417, 41.940084415561344, 41.81264886216197, 41.762978333952645, 41.838565311117186, 41.96877948461724, 41.96640607173086, 41.77498801004332, 42.24476913263917, 41.75713063538505, 41.70382847772317, 41.82357622578059, 41.84800492439817, 41.989288803637855, 42.25095034702136, 42.202118259647015, 42.13755155943486, 42.06806638807654, 42.309260534942396, 41.77675367148514, 41.64597561939364, 42.32763842477656, 41.86921158165625, 41.74159955780761, 41.916864920227034, 41.98641582733954, 41.917361993644185, 41.73270025149605, 41.78453894409647, 42.05900196339712, 41.73308384868469, 42.242382294813034, 42.34127381799322, 42.229394776839875, 42.19444334945968, 41.490853869411524, 42.14304422271718, 42.32318083841984, 41.96302365660045, 42.18460216523347, 41.773165463206304, 41.84145699238063, 41.99616978915087, 41.88037419669417, 42.160078418189265, 41.762978333952645, 42.02205180245549, 41.77498801004332, 42.04625855439719, 41.75713063538505, 41.62537665384971, 41.82357622578059, 42.33001056956193, 41.989288803637855, 42.202118259647015, 41.617862386561335, 42.06806638807654, 41.94289490389879, 41.64597561939364, 41.93425719659783, 41.86921158165625, 41.854681275627236, 41.916864920227034, 41.76649967762834, 41.74731007835366, 41.917361993644185, 42.10871318702028, 41.78453894409647, 42.36878857205194, 41.73308384868469, 42.19162589148875, 42.06506407662003, 42.242382294813034, 42.25556281711589, 42.229394776839875, 42.34932795409269, 41.490853869411524, 42.32318083841984, 41.84292438624995, 42.18460216523347, 42.10065816118501, 41.84145699238063, 42.238339834795305, 41.99616978915087, 42.03377136731331, 42.160078418189265, 42.28343394351273, 42.02205180245549, 42.18591497046198, 42.04625855439719, 42.115615902727164, 41.62537665384971, 41.99194747298441, 42.33001056956193, 42.445607801984686, 41.617862386561335, 42.3409484997098, 41.94289490389879, 41.64774605595555, 41.93425719659783, 42.02570283025796, 42.14482934939032, 41.854681275627236, 41.76649967762834, 41.748188594807885, 41.74731007835366, 42.442321496956616, 42.10871318702028, 42.013259880058655, 42.36878857205194, 42.395676868873444, 42.19162589148875, 41.64360292026511, 42.06506407662003, 41.89878182169107, 42.08349198385191, 42.25556281711589, 42.27975716509549, 42.34932795409269, 41.93981811837272, 41.84292438624995, 42.36321583242397, 42.10065816118501, 41.87966494327049, 42.238339834795305, 41.96360596838643, 42.03377136731331, 42.12295112930048, 42.28343394351273, 41.86762473470104, 42.18591497046198, 42.217639770044094, 42.115615902727164, 42.40274991224009, 41.99194747298441, 42.445607801984686, 42.3409484997098, 42.06775808426123, 41.64774605595555, 41.844731607481066, 42.02570283025796, 42.17241214259735, 42.14482934939032, 41.76690568165533, 41.748188594807885, 42.213687310797084, 42.05748763537073, 41.88172625971762, 42.18266910786366, 42.442321496956616, 42.414315705072234, 42.013259880058655, 42.17301386172833, 42.395676868873444, 42.25925426822567, 41.64360292026511, 42.255715972498265, 41.89878182169107, 41.90805471647505, 42.08349198385191, 42.30441741942981, 42.27975716509549, 42.18246446903079, 42.384423966264045, 41.93981811837272, 41.61123131347529, 42.36321583242397, 41.70291589542903, 41.87966494327049, 41.79887407437525, 41.96360596838643, 41.82724478010202, 41.79413193129132, 42.12295112930048, 42.09164165626394, 41.86762473470104, 42.237140963999366, 42.217639770044094, 41.99914388207735, 42.40274991224009, 41.8104717540892, 42.06775808426123, 42.080201821258875, 41.844731607481066, 41.57713880415534, 42.17241214259735, 41.97023892499851, 41.76690568165533, 42.000739573537686, 42.213687310797084, 42.006860453158104, 42.05748763537073, 42.199076811440335, 41.88172625971762, 41.97657726093326, 42.18266910786366, 41.65545439803497, 42.414315705072234, 42.181835305214406, 42.17301386172833, 42.19875514994255, 42.25925426822567, 41.988384031115594, 42.255715972498265, 41.90074367206008, 41.90805471647505, 41.7704220109634, 42.35282946455113, 42.30441741942981, 42.095134040159024, 42.18246446903079, 42.384423966264045, 41.93375836197915, 41.61123131347529, 41.773146914891655, 41.70291589542903, 41.922418085483535, 41.79887407437525, 41.958267303228205, 41.82724478010202, 41.945209073671506, 41.79413193129132, 42.096681603446434, 42.09164165626394, 41.65292879534367, 42.237140963999366, 42.237596862737654, 42.0825710259409, 41.99914388207735, 41.809142838948944, 42.064529609731935, 41.62404104938955, 41.8104717540892, 42.140960371274865, 42.080201821258875, 41.98738910191202, 41.57713880415534, 41.93543106083524, 41.97023892499851, 42.26890930148028, 42.000739573537686, 41.799014288069245, 42.006860453158104, 41.99110647096247, 42.39392928379224, 42.199076811440335, 41.784478219794664, 41.97657726093326, 41.927830722013795, 41.65545439803497, 41.68954069265494, 42.181835305214406, 41.98917873624584, 42.19875514994255, 42.431813220216355, 41.988384031115594, 41.91550152585819, 41.90074367206008, 41.87299221916097, 41.7704220109634, 41.70827763637023, 42.35282946455113, 41.70117350074465, 42.095134040159024, 41.93375836197915, 42.258245492599016, 41.773146914891655, 41.89189582435031, 41.922418085483535, 41.784390707389804, 41.958267303228205, 41.76243201613289, 41.945209073671506, 41.542351868607035, 42.096681603446434, 42.18077130925911, 41.60362577403327, 41.65292879534367, 42.237596862737654, 41.807301638082066, 42.0825710259409, 42.22977226896397, 41.809142838948944, 41.9163790506151, 42.064529609731935, 41.90775761478209, 41.62404104938955, 42.0552778729104, 42.140960371274865, 42.18039923234415, 41.98738910191202, 41.93338411498968, 41.93543106083524, 42.33922040512859, 42.26890930148028, 42.067954636396465, 41.799014288069245, 41.76893039760076, 41.99110647096247, 42.20363599116307, 42.39392928379224, 42.06317881103343, 41.784478219794664, 41.788096539059026, 41.927830722013795, 41.68954069265494, 42.228837094833885, 41.98917873624584, 41.9500498130228, 42.431813220216355, 42.055202353011715, 41.91550152585819, 42.180387257580634, 41.87299221916097, 41.96695040874137, 41.70827763637023, 42.19535818045546, 41.70117350074465, 42.03951848711169, 42.258245492599016, 41.82230340841686, 42.08166962355228, 41.96374972411175, 41.89189582435031, 41.99387589739557, 41.784390707389804, 41.936841819506604, 41.76243201613289, 42.008690359109266, 41.542351868607035, 41.86737925717049, 42.18077130925911, 42.09481277813553, 41.60362577403327, 41.68707576857257, 41.807301638082066, 41.95345631444596, 42.22977226896397, 41.90220493592849, 41.9163790506151, 41.79975627744552, 41.90775761478209, 41.932000438607325, 42.0552778729104, 42.04516044112494, 42.18039923234415, 41.754304434679845, 41.93338411498968, 42.33922040512859, 42.067954636396465, 41.76893039760076, 42.20363599116307, 42.06317881103343, 41.788096539059026, 42.228837094833885, 41.9500498130228, 42.055202353011715, 41.64654998518302, 42.180387257580634, 41.88458827081039, 41.96695040874137, 41.87491633260269, 42.19535818045546, 41.640954492567374, 42.03951848711169, 42.47716074798454, 41.82230340841686, 42.142261516321255, 42.08166962355228, 42.399205138187696, 41.96374972411175, 41.97739353629628, 41.99387589739557, 42.26526784620175, 41.936841819506604, 41.70770109537435, 42.008690359109266, 41.94856271735665, 41.86737925717049, 41.99074864999632, 41.98216392752531, 42.09481277813553, 42.12926034958, 41.68707576857257, 42.28433334402878, 41.95345631444596, 41.90220493592849, 41.79975627744552, 41.63398516849924, 41.932000438607325, 41.92050483653662, 42.04516044112494, 41.90558902918213, 42.10036341895876, 41.754304434679845, 41.64654998518302, 42.43850378840705, 41.88458827081039, 41.817720571294494, 41.876391509279436, 41.87491633260269, 41.80857285186535, 41.640954492567374, 41.827686367428555, 41.89122610372126, 42.47716074798454, 41.89380755355257, 42.142261516321255, 41.643059279280116, 42.399205138187696, 41.97739353629628, 42.26526784620175, 42.10370582915725, 41.69978301155582, 41.70770109537435, 41.911915324921544, 41.94856271735665, 41.99988366008078, 41.99074864999632, 42.098731218397226, 41.98216392752531, 41.855799726747875, 41.9564863969075, 42.12926034958, 42.28433334402878, 41.63398516849924, 42.17220447410192, 41.74255885754591, 41.92050483653662, 41.90558902918213, 42.10036341895876, 42.43850378840705, 41.817720571294494, 42.29937944737036, 41.876391509279436, 41.839064700516936, 41.80857285186535, 42.15628496170762, 42.185888261997285, 41.827686367428555, 42.15995275664584, 41.89122610372126, 42.25479913528972, 41.89380755355257, 41.53290788761698, 41.643059279280116, 41.821856402328415, 42.10370582915725, 41.69978301155582, 42.11505496349886, 41.911915324921544, 42.024267023961876, 41.99988366008078, 42.098731218397226, 42.00144355202753, 42.327261370299404, 41.855799726747875, 41.9564863969075, 42.02962589704359, 42.17220447410192, 42.18737828135821, 41.74255885754591, 42.24413905683252, 42.29937944737036, 42.06437453547544, 42.00240209571837, 41.839064700516936, 41.997926576840776, 42.15628496170762, 41.97638981024046, 42.185888261997285, 42.211943175963924, 42.15995275664584, 41.87906804196055, 42.25479913528972, 41.7416246220248, 41.53290788761698, 42.205636341426796, 41.821856402328415, 41.904159571272565, 42.11505496349886, 41.954626392993696, 42.024267023961876, 42.022192902940276, 42.00144355202753, 41.78393175997371, 42.327261370299404, 42.16662819636834, 42.02962589704359, 42.112974978640516, 41.87683320741635, 42.18737828135821, 41.88566221102887, 42.24413905683252, 42.38939722266623, 42.0537516535634, 42.06437453547544, 42.21326084265283, 42.00240209571837, 42.1711531244432, 41.997926576840776, 41.85179293676534, 41.97638981024046, 42.035911947779226, 42.211943175963924, 42.06431042149026, 41.87906804196055, 41.7416246220248, 42.02650407318871, 41.73650141793894, 42.205636341426796, 42.314559006633225, 42.112015978933805, 41.904159571272565, 41.954626392993696, 42.09998216750695, 42.022192902940276, 42.13166376391439, 41.78393175997371, 41.854722825093305, 42.07834043980512, 41.768762048166096, 42.16662819636834, 41.796621240180784, 42.112974978640516, 42.389752094792904, 41.87683320741635, 41.6654135463485, 41.88566221102887, 42.007636525868044, 42.38939722266623, 42.02249569951377, 42.0537516535634, 42.21326084265283, 42.151252155784576, 42.1711531244432, 41.69123780922743, 41.85179293676534, 41.96079142241686, 42.035911947779226, 41.74544948480998, 42.06431042149026, 42.036394319128235, 42.02650407318871, 42.32450481594284, 41.73650141793894, 41.74556160872687, 41.47608966125335]\n",
            "[24.14302133299998]\n",
            "[92.2540449600001]\n"
          ]
        }
      ],
      "source": [
        "#si-exercise\n",
        "\n",
        "import random\n",
        "import numpy as np\n",
        "import multiprocessing as mp\n",
        "import timeit\n",
        "\n",
        "#define constants\n",
        "#n_REPS = 1000 Took this constant definition out because the test code was looking for a starting argument of 'n_reps=1000' in both sCalc and pCalc\n",
        "n_SAMPLES = 1000\n",
        "\n",
        "#sample normal distributions and assign to variables\n",
        "def generate_data(n_samples=n_SAMPLES):\n",
        "  a = np.random.normal(15, 2, n_samples)\n",
        "  x1 = np.random.normal(3, 5, n_samples)\n",
        "  x2 = np.random.normal(10, 1, n_samples)\n",
        "  x3 = np.random.normal(8, 8, n_samples)\n",
        "  e = np.random.normal(0, 1, n_samples)\n",
        "  y = a + x1 + 2 * x2 + 1/2 * x3 + e\n",
        "  return y\n",
        "\n",
        "#Serial calculation\n",
        "def sCalc(n_reps=1000):\n",
        "  results = []\n",
        "  for _ in range(n_reps):\n",
        "    mean_y = generate_data().mean()\n",
        "    results.append(mean_y)\n",
        "  return results\n",
        "\n",
        "#Parallel calculation\n",
        "def pCalc(n_reps=1000):\n",
        "  results = []\n",
        "  with mp.Pool(processes=2) as pool:\n",
        "    for _ in range(n_reps):\n",
        "      y = pool.apply_async(generate_data)\n",
        "      mean_y = y.get().mean()\n",
        "      results.append(mean_y)\n",
        "  return results\n",
        "\n",
        "#store sCalc results\n",
        "sResults = sCalc(n_reps=1000)\n",
        "print(sResults)\n",
        "\n",
        "#store pCalc results\n",
        "pResults = pCalc(n_reps=1000)\n",
        "print(pResults)\n",
        "\n",
        "#time sCalc\n",
        "sTime = []\n",
        "sTime.append(timeit.Timer('sCalc(n_reps=1000)',\n",
        "    'from __main__ import sCalc, generate_data').timeit(number=100))\n",
        "print(sTime)\n",
        "\n",
        "#time pCalc\n",
        "pTime = []\n",
        "pTime.append(timeit.Timer('pCalc(n_reps=1000)',\n",
        "    'from __main__ import pCalc, generate_data').timeit(number=100))\n",
        "print(pTime)"
      ]
    },
    {
      "cell_type": "code",
      "source": [],
      "metadata": {
        "id": "l8FyU7rkWB-k"
      },
      "execution_count": null,
      "outputs": []
    }
  ],
  "metadata": {
    "celltoolbar": "Create Assignment",
    "kernelspec": {
      "display_name": "Python 3 (ipykernel)",
      "language": "python",
      "name": "python3"
    },
    "language_info": {
      "codemirror_mode": {
        "name": "ipython",
        "version": 3
      },
      "file_extension": ".py",
      "mimetype": "text/x-python",
      "name": "python",
      "nbconvert_exporter": "python",
      "pygments_lexer": "ipython3",
      "version": "3.9.13"
    },
    "colab": {
      "provenance": []
    }
  },
  "nbformat": 4,
  "nbformat_minor": 0
}