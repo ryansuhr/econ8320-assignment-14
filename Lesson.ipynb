{
  "cells": [
    {
      "cell_type": "markdown",
      "metadata": {
        "id": "-HAFRN6UOxZ-"
      },
      "source": [
        "# Multiprocessing\n",
        "\n",
        "Or writing programs to use multiple processor cores"
      ]
    },
    {
      "cell_type": "markdown",
      "metadata": {
        "id": "MPFDGSqdOxZ_"
      },
      "source": [
        "### This lesson is based on notes from [sebastianraschka.com](http://sebastianraschka.com/Articles/2014_multiprocessing.html)\n",
        "\n",
        "What actually happens when you run code, or execute a program on a computer? If we focus on Python, what happens when we run Python code? Does our computer \"speak Python\", understand what we type, and do what we ask?\n",
        "\n",
        "It turns out that no, our computer does NOT speak Python. When we execute Python code, our code is passed to an **interpreter**. This interpreter is what reads our code and translates what we have written into what is called **machine code**. Machine code is typically not human-readable. That's the reason we have languages like Python, R, C++, Java, etc. We need a way to express logic clearly and explicitly, so that it can be translated into the kind of code that our computer DOES understand.\n",
        "\n",
        "So far, human speech (or written human language) does not translate directly to machine code.\n",
        "\n",
        "But what actually happens once we write our code, and the computer starts to run that code? We can understand the basics of this process through the following six (simplified!) steps:\n",
        "\n",
        "1) The computer allocates memory to the program\n",
        "2) The program issues a series of instructions to the processor (the thinking part of the computer)\n",
        "3) Upon completion of one instruction by the processor, the next is started\n",
        "4) Information is returned from the processor to the program as needed\n",
        "5) New instructions are sent to the processor based on information received from the processor\n",
        "6) Return to step 2, repeat until program is finished\n",
        "\n",
        "\n",
        "When a program is running, it typically has a single space in memory in which it stores all information relevant to its task. This memory space allows the information to be used by whichever part of the program requires that information to use it. Basically, think of all of the things in memory as shared assets, and different parts of the program want to be able to access them at the same time. Kind of like if you share a storage space with a friend or family member. Sometimes you'll be pulling out the camping gear, and sometimes they will be instead.\n",
        "\n",
        "Information that is accessible across the entire program are called **globally defined values**. But not all variables are global. Some variables with reduced **scope** are not available to all segments of a program. You might have valuables that you don't share with the other people using your storage space. It's kind of like that. Variables with reduced scope are only available to parts of the program that share that scope.\n",
        "\n",
        "While for people, we restrict access primarily based on keeping valuables safe, programs tend to do it in order to ensure that information is not lost or modified while it is needed by a part of the program. You wouldn't want to have someone change your budgeting spreadsheet in the middle of the month, would you?\n",
        "\n",
        "Again, **scope** is a term used to define the areas in which a given value in memory is accessible. Variables that are **Global** in scope can typically be accessed by any function or command running as part of the program. Variables that are **Local** can only be accessed within the scope in which they are defined. A variable created inside a function is said to be **local** to that function, and only available until the function is concluded. Then it is either returned to the global space, or forgotten.\n"
      ]
    },
    {
      "cell_type": "markdown",
      "metadata": {
        "id": "I1EAxMynOxaA"
      },
      "source": [
        "\n",
        "![](https://github.com/dustywhite7/Econ8320/blob/master/SlidesCode/serialParallel.png?raw=true)\n",
        "\n",
        "One of the single biggest changes in computational technology in the recent past was the advent and spread of parallel computation. This concept is the crux of this lesson, but needs a lot of explaining, because it isn't something that we as computer USERS have to deal with. It happens behind the scenes, despite its tremendous importance.\n",
        "\n",
        "### Sequential programs\n",
        "\n",
        "When we perform tasks, some steps must be performed sequentially. This happens because one task depends on the results of the other task. For example, an American football team will only make a play on fourth down if they fail to score or convert on third down. We can't fully implement our plan for fourth down until we have seen whether or not fourth down will occur.\n",
        "\n",
        "We need to aim our penalty shot in FIFA before taking the kick. We even need to wait to complete the details for the elimination rounds of the tournament until group play has ended. Until then, we don't know enough about which teams will advance to complete the bracket.\n",
        "\n",
        "In programming speak, sequential programs are sequential because it is critical that the results of one calculation be within the **scope** of the other calculations. If one sequential calculation cannot view the results of the prior calculation, then the second function cannot be completed.\n",
        "\n",
        "### Parallel Programs\n",
        "\n",
        "On the other hand, some calculations can be performed independent of the results of other steps. These tend to be calculations that can essentially be considered separate tasks, but part of a larger overall task. Some examples include\n",
        "\n",
        "- Batch processing of files\n",
        "- Non-sequential simulations\n",
        "- Serving recommended products to many users\n",
        "- Repeated random draws\n",
        "- Rendering polygons\n",
        "\n",
        "The key difference between serial and parallel programs is the dependency (or lack of dependency) of calculations on the results of previous calculations.\n",
        "\n",
        "- Serial programs rely on previous results\n",
        "- Parallel programs do not depend on the results of other calculations\n",
        "\n",
        "Parallel programs can occur simultaneously, allowing us to accelerate execution. If we can run four calculations simultaneously, then in theory we might be able to run 100 computations in the time that a serial program might run 25 similar computations.\n",
        "\n",
        "Parallel computations have enabled advances like improved graphics in video games, and have made possible the revolution in machine learning. Let's learn how to make parallel code work for our projects, as well!\n"
      ]
    },
    {
      "cell_type": "markdown",
      "metadata": {
        "id": "IoGHuaslOxaA"
      },
      "source": [
        "One place where parallel processing really shines is in estimating complex mathematical calculations. While some math can be solved algebraically, other math problems can only be solved computationally. The more computations we can perform in a given amount of time, the sooner we can find the solution to those problems. We can buy faster computers to speed up calculations, but we can also parallelize many calculations, giving us benefits without having to upgrade our computer!\n",
        "\n",
        "Some examples in which we will typically solve math problems with computation:\n",
        "- Estimating Producer/Consumer Surplus\n",
        "- Calculating probabilities from frequency tables\n",
        "- Integrating on complicated functional forms\n",
        "\n",
        "### Numeric Integration\n",
        "\n",
        "Often, when integrating complicated functions, there is no **algebraic** solution to the integral. This means that we need to estimate the value of the integral **numerically**. The process that we follow to estimate an integral numerically follows:\n",
        "\n",
        "1) Choose points at which to estimate the value of the function\n",
        "2) Choose bandwidth\n",
        "3) Multiply function values by bandwidth\n",
        "4) Add all estimates to calculate approximate integral\n",
        "\n",
        "![](https://github.com/dustywhite7/Econ8320/blob/master/SlidesCode/integralProcess.png?raw=true)\n",
        "\n",
        "Let's start by just defining a function to integrate. We can use\n",
        "\n",
        "$$ f(x) = \\frac{1}{1+x^2} $$\n",
        "\n",
        "as our example function. First, we need to write this function as a Python function:"
      ]
    },
    {
      "cell_type": "code",
      "execution_count": null,
      "metadata": {
        "id": "OdoST4LcOxaA"
      },
      "outputs": [],
      "source": [
        "# define any function here!\n",
        "def f(x):\n",
        "    # return the value of the function given x\n",
        "    return 1/(1 + x**2)"
      ]
    },
    {
      "cell_type": "markdown",
      "metadata": {
        "id": "B_cTheCxOxaB"
      },
      "source": [
        "Now, we need to write a function that can sample from our function, and calculate the area of the sampled rectangles, and then return an approximate area."
      ]
    },
    {
      "cell_type": "code",
      "execution_count": null,
      "metadata": {
        "id": "l3nV6NZYOxaB"
      },
      "outputs": [],
      "source": [
        "import random\n",
        "\n",
        "def serial_integral(nSample, f, xmin, xmax):\n",
        "  # determine points of estimation\n",
        "  sample = sorted([random.uniform(xmin, xmax) for i in range(nSample)])\n",
        "  # Calculate height at each point\n",
        "  value = [f(i) for i in sample]\n",
        "  # Calculate areas of rectangles\n",
        "  # We have to specially calculate the first rectangle,\n",
        "  #   because xmin is not part of our list of samples\n",
        "  area = [(sample[0]-xmin)*value[0]] + [(sample[i]-sample[i-1])*value[i] for i in range(1, len(sample))]\n",
        "  # Return sum as an approximate integral\n",
        "  return sum(area)"
      ]
    },
    {
      "cell_type": "markdown",
      "metadata": {
        "id": "cvezUIV3OxaB"
      },
      "source": [
        "This is our function for actually integrating a function `f` from `xmin` to `xmax` across `nSample` random intervals. Below is a picture of how this function gets (approximately) closer to estimating the true integral value as we increase the number of points at which we sample the function. Because integration is based on randomly drawn intervals, the convergence is not smooth. If we took many integrals at each bin number, however, we would expect this plot to become smooth.\n",
        "\n",
        "![](https://github.com/dustywhite7/Econ8320/blob/master/SlidesCode/integral.png?raw=true)\n",
        "\n",
        "### Parallel calculations\n",
        "\n",
        "The ``multiprocessing`` library is designed to create multiple sub-instances of the python interpreter called processes, with each process returning values that are independent of the other processes. In order to coordinate this effort, some computational power must be assigned to send off processes and to retrieve their results upon completion.\n",
        "\n",
        "This \"overhead\" means that parallel processing is not usually justified for very simple problems, and is reserved for computationally intensive problems, or where there are very many processes to be completed in one batch.\n",
        "\n",
        "Given the overhead of parallelization, it is not worthwhile to make a parallel version of our single integral function above. Instead, it IS worthwhile to create a function that can calculate the integral many times in parallel. Like we said above, convergence is noisy, but an average value for each given number of bins should be more stable.\n",
        "\n",
        "Let's see how much time we can save by making a function that will calculate an average value in parallel when compared to a serialized alternative."
      ]
    },
    {
      "cell_type": "code",
      "execution_count": null,
      "metadata": {
        "id": "TkBwfhANOxaC"
      },
      "outputs": [],
      "source": [
        "import multiprocessing as mp # This module is part of the\n",
        "\t\t\t     # python standard library\n",
        "\n",
        "def serial_average(n_bins, n_reps, f, xmin, xmax):\n",
        "  attempts = [serial_integral(n_bins, f, xmin, xmax) for i in range(n_reps)]\n",
        "  return sum(attempts)/n_reps\n",
        "\n",
        "def parallel_average(processes, n_bins, n_reps, f, xmin, xmax):\n",
        "  pool = mp.Pool(processes=processes)\n",
        "  results = [pool.apply_async(serial_integral, (n_bins, f, xmin, xmax)) for i in range(n_reps)]\n",
        "  results = [p.get() for p in results]\n",
        "  return sum(results)/n_reps"
      ]
    },
    {
      "cell_type": "markdown",
      "metadata": {
        "id": "y0slH_7LOxaC"
      },
      "source": [
        "Now let's explore what that function does."
      ]
    },
    {
      "cell_type": "code",
      "execution_count": null,
      "metadata": {
        "id": "F-ZQe_0VOxaC"
      },
      "outputs": [],
      "source": [
        "def parallel_average(processes, n_bins, n_reps, f, xmin, xmax):\n",
        "  pool = mp.Pool(processes=processes)\n",
        "  ...\n",
        "  return ..."
      ]
    },
    {
      "cell_type": "markdown",
      "metadata": {
        "id": "PtSbZeIlOxaC"
      },
      "source": [
        "The `mp.Pool` class provides the functionality to organize our processes, and to define the degree to which we want to spread our work across various **processes**. We can specify how many active processes there should be at any time with the number of processes.\n",
        "\n",
        "We need to take care to choose the right number of processes for our machine! In general, my experience has been that performance is best when you keep the number of processes at or below the number of cores available in your computer's processor."
      ]
    },
    {
      "cell_type": "code",
      "execution_count": null,
      "metadata": {
        "id": "2bEtLvMPOxaC"
      },
      "outputs": [],
      "source": [
        "def parallel_average(processes, n_bins, n_reps, f, xmin, xmax):\n",
        "  ...\n",
        "  results = [pool.apply_async(serial_integral, (n_bins, f, xmin, xmax)) for i in range(n_reps)]\n",
        "  ...\n",
        "  return ..."
      ]
    },
    {
      "cell_type": "markdown",
      "metadata": {
        "id": "OmqgyNDXOxaC"
      },
      "source": [
        "We next use the `apply_async` method to pass the values that we want our pooled instances to calculate. We need to provide the function to be executed, as well as the arguments for the function in each iteration with each each of the arguments an element in a tuple. In our case, we are not varying the arguments, so we provide a single tuple that never changes, but we could vary those arguments whenever necessary or desirable."
      ]
    },
    {
      "cell_type": "code",
      "execution_count": null,
      "metadata": {
        "id": "UbVqz1uAOxaC"
      },
      "outputs": [],
      "source": [
        "def parallel_average(processes, n_bins, n_reps, f, xmin, xmax):\n",
        "  ...\n",
        "  results = [p.get() for p in results]\n",
        "  ...\n",
        "  return ..."
      ]
    },
    {
      "cell_type": "markdown",
      "metadata": {
        "id": "IEfSeScTOxaC"
      },
      "source": [
        "The next step is to use the `get()` method on each element of our returned processes. This will fetch the return statement values from each of the processes that we executed in the last line.\n",
        "\n",
        "At this point the parallel computation is complete. The remainder of the function will look and work just like the results from our `serial_average` method.\n",
        "\n",
        "\n",
        "### Timing it\n",
        "\n",
        "Next, it is time to write code that will allow us to test our parallel and serial performance."
      ]
    },
    {
      "cell_type": "code",
      "execution_count": null,
      "metadata": {
        "id": "mR1oD4sLOxaC"
      },
      "outputs": [],
      "source": [
        "import timeit # library for timing execution of code\n",
        "\n",
        "benchmarks = [] # list to store our execution times\n",
        "\n",
        "benchmarks.append(timeit.Timer('serial_average(10000, 100, f, 0, 1)',\n",
        "  'from __main__ import serial_average, serial_integral, f').timeit(number=1))\n",
        "    # Note that we need to include a second line\n",
        "    # that imports our functions from __main__.\n",
        "    # This tells the timer what needs to be IN SCOPE\n",
        "\n",
        "benchmarks.append(timeit.Timer(\n",
        "  'parallel_average(2, 10000, 100, f, 0, 1)',\n",
        "  'from __main__ import parallel_average, serial_integral, f').timeit(\n",
        "    number=1))\n",
        "    # Need to include number of processes\n",
        "    # when timing the parallel implementation"
      ]
    },
    {
      "cell_type": "markdown",
      "metadata": {
        "id": "pkmx5DT0OxaC"
      },
      "source": [
        "Amazing! When timing the output on my virtual machine (not at all a powerful computer), the parallel version runs nearly twice as fast (0.36 seconds vs 0.69 seconds). Even in a fairly trivial example, we see significant performance gains.\n",
        "\n",
        "When I ran a similar trial on my computer with 16 cores, I saw the following performance pattern:\n",
        "\n",
        "![w:750](https://github.com/dustywhite7/Econ8320/blob/master/SlidesCode/performance.png?raw=true)\n",
        "\n",
        "On 16 cores, the parallel version of this problem executes over 5x faster than the serial version! Some observations:\n",
        "\n",
        "- This was done on a 16-core processor, which is an expensive way to get a performance gain\n",
        "- Creating too many processes (going past 16 to 32) actually started to slow the computations down\n",
        "- We need to be aware of the hardware that we are utilizing when designing parallel code\n",
        "\n",
        "If you are unsure of how many processes you should run on your machine, the following command will show you how many CPU cores are available to Python:\n",
        "\n",
        "```python\n",
        "mp.cpu_count() # Tells us the number of available CPUs\n",
        "```\n",
        "\n",
        "Now it's your turn to give it a go!\n"
      ]
    },
    {
      "cell_type": "markdown",
      "metadata": {
        "id": "wHC4YdzyOxaC"
      },
      "source": [
        "## Solve-it!\n",
        "\n",
        "Simulate 1,000 draws from a multivariate normal distribution and calculate the average value of the dependent variable, but do it 100 times! This is called \"bootstrapping\" and is a critical process in many statistical models and simulations. Draw from the following equation:\n",
        "\n",
        "$$ y = \\alpha + x_{1} + 2\\cdot x_{2} + \\frac{1}{2}x_{3} + \\epsilon $$\n",
        "\n",
        "where\n",
        "\n",
        "$\\alpha \\sim \\mathcal{N}(15,2)$, $x_1 \\sim \\mathcal{N}(3,5)$,\n",
        "\n",
        "$x_2 \\sim \\mathcal{N}(10,1)$, $x_3 \\sim \\mathcal{N}(8,8)$, and\n",
        "\n",
        "$\\epsilon \\sim \\mathcal{N}(0,1)$\n",
        "\n",
        "$\\mathcal{N}(\\mu, \\sigma)$ represents the Normal distribution with mean $\\mu$ and standard deviation $\\sigma$\n",
        "\n",
        "Write functions to generate all values and calculate . Test and time these draws using serial and parallel programming (2 cores), and report the difference in performance between the two versions.\n",
        "\n",
        "\n",
        "Call your serial function `sCalc`, and your parallel function `pCalc`, store your results from each function as a list, with the lists named `sResults` and `pResults`, respectively.\n",
        "\n",
        "Finally, store the timed values for each run as `sTime` and `pTime`, respectively. All code for this exercise should go in the cell labeled `#si-exercise` below.\n",
        "\n",
        "**NOTE: Because we are running code on a virtual machine, and because the problem is not very computationally intensive, we should not be surprised if the serial version of our code outperforms the parallel version for this assignment.**\n",
        "\n",
        "**OTHER NOTE: Because we need this to run in a reasonable amount of time, we are only running 100 rounds of sampling. Typical bootstrapping procedures default to 10,000 rounds as good practice.**"
      ]
    },
    {
      "cell_type": "code",
      "execution_count": 3,
      "metadata": {
        "colab": {
          "base_uri": "https://localhost:8080/"
        },
        "id": "R1Ov-20gOxaD",
        "outputId": "8ebc9cf7-0b5d-4281-f08d-d960c22e328d"
      },
      "outputs": [
        {
          "output_type": "stream",
          "name": "stdout",
          "text": [
            "[42.095655945318775, 41.994943358224205, 42.033539620708375, 41.79060899106285, 42.116188408881264, 41.44618752425095, 42.075559356587306, 41.91715319322722, 42.28838721109126, 42.16570109672044, 42.282655565458604, 42.14013752365719, 41.89631982739938, 41.60428163302193, 41.71747595658941, 41.75045306417644, 42.18109582200857, 41.92033142432908, 42.01190252331393, 41.819417780192715, 41.762091470551745, 41.99778716059604, 42.12406093104486, 42.03114225204834, 41.68677551571268, 41.69975229290828, 41.79378329074024, 42.15891461632806, 41.97771855329294, 41.99952937669614, 41.89108591921432, 42.03078671340271, 41.67269373489372, 42.11250890332964, 41.84128072860124, 42.02492936587715, 42.00692247718446, 41.905579977488784, 41.775824794231816, 41.997535941033185, 41.80311387914445, 41.95824658970825, 42.01270900090615, 41.810356394744446, 41.97799371780182, 41.43969021496196, 41.85674191403674, 41.92851881145273, 41.71006812081313, 41.93223563579635, 41.63951200629321, 42.005017344331876, 41.87891847385421, 42.1785175095107, 41.4988051538114, 41.91239757084449, 41.94005451885719, 42.082293501262356, 41.95841720513855, 41.930167843481954, 42.02134461775809, 41.649027892834084, 41.85795170206841, 42.08453353012865, 41.57225001183529, 42.017785721854956, 42.301015357530325, 42.36496247298026, 41.56471739435676, 42.11858719624556, 42.291944842114816, 41.66828433027117, 42.157097619977485, 42.254190891055686, 42.21959089946351, 41.87372753616205, 42.378752293271596, 41.60046316921542, 41.85680692086883, 42.313127605171395, 42.32402721690459, 41.766878769758335, 42.063234970254484, 41.83639851823253, 42.27515046240984, 42.04432153239827, 42.12744530053142, 42.405045309301805, 42.17718226172447, 42.09031326844031, 42.04319059784791, 41.69404098228524, 42.08539292599373, 42.24557638294062, 41.941220921214565, 41.5642741858868, 41.77286119360895, 42.41872407865757, 42.432492130451834, 42.21538868832121, 41.73858933956474, 42.109572007644026, 42.431896507611775, 42.00913808485037, 42.29023990733152, 41.34352066620051, 42.17618461593689, 41.52756362092491, 42.14125349338862, 42.25943710306981, 42.52480540497834, 42.11988366665281, 41.732530212593474, 42.109386050439284, 42.27204951306236, 41.91281624850988, 42.235721421648066, 42.024901585982256, 41.90235789602943, 41.80609965957359, 41.91485369370264, 42.084636711011186, 42.294421773535255, 42.171827282335045, 42.062043109237905, 42.1060510889311, 42.20626185479354, 42.31468355195626, 41.967973797600514, 42.11425512186253, 42.42723254262797, 41.98879935245225, 42.11490766324178, 41.7003814161529, 41.84924857509706, 41.911391877614385, 41.70795534245206, 41.81267103129042, 41.86609566759622, 41.85484290617055, 42.32797013584914, 42.107647665926535, 42.095945185559806, 42.09355753800433, 42.384616453021394, 42.058509110171826, 42.105616016802, 42.33328417460295, 41.97810374086326, 41.85969710586785, 42.0249068725995, 42.13115567747981, 41.79037214267833, 41.90779365857575, 42.022473830403285, 41.622511432255, 42.017573033144465, 42.5484658085361, 41.836753957825714, 42.21732374024918, 41.97263527058566, 41.565489601294495, 42.241910214179725, 42.02788577783826, 41.53496578195583, 42.018218271751465, 41.87500937490075, 42.035407407532986, 41.69000147833009, 42.129539070976016, 42.160650005560555, 41.82113636363677, 41.966722922375965, 41.955842926817525, 42.09222923650564, 41.567517615588294, 41.884096339540704, 41.68586701882142, 41.91335141576426, 42.131143210112455, 41.89994856467365, 42.10014033121847, 42.203135434967535, 41.908663592176616, 41.909836182702364, 42.177002341640616, 41.93874314455015, 42.00214175631187, 42.206857692360586, 42.41489413141535, 42.014523224928595, 41.98363069417453, 41.97044776533973, 41.96535628643121, 42.26737585554255, 41.82895812511185, 41.89278356021134, 42.024076498712674, 42.49510505379266, 41.95351873329807, 41.98659172940223, 41.8254422565292, 41.895937220311986, 42.21572318222801, 42.071364352980815, 42.09362742867233, 41.990090095372935, 42.1275142896282, 41.881365220659085, 42.23047497112413, 42.087751798790116, 42.13577259140328, 42.23628886102935, 41.71422967892441, 41.58801472460858, 41.93372720067864, 41.923534433779146, 41.688199690379136, 42.04256550417619, 41.884296044003, 41.64122616546215, 41.6480105178777, 42.03258602366634, 42.02775167339426, 42.121803204602884, 41.86593783337289, 42.28031432279045, 41.71869439392481, 41.93105712168723, 42.09079867238684, 41.62318911227647, 41.816506904416954, 41.859382870993436, 42.043778195587166, 42.14427849527715, 42.05138304253567, 42.04254055963137, 42.126059652557586, 42.33341953576378, 41.835603443345114, 42.161677683418866, 42.07188434957424, 41.90453523165121, 41.3622209699985, 42.32095022611914, 42.102490053005255, 42.38919906377506, 41.766932205493696, 41.978377792945416, 41.377939988427414, 42.1296104675403, 42.20289712633077, 41.66246698011293, 41.62128577351531, 42.32448115613179, 42.24244650513702, 42.16670573068211, 42.01671707841621, 42.1537045692524, 41.917366948797536, 42.17516923530723, 41.80526686165048, 42.01889146558792, 41.68868311493208, 41.95561319765923, 41.9410675054554, 42.15546089240738, 42.23336253779147, 42.24827504405983, 41.91773849919306, 41.89255875152555, 42.40514849856182, 42.27694529499815, 42.01730540821541, 41.8774386612948, 41.89974936818523, 42.05989369716667, 41.9659819179721, 41.688416698891366, 42.047974429060474, 41.77164002868465, 42.16355474746459, 42.09227068196256, 41.78914943684957, 41.94370119290544, 42.60130740310474, 42.071872323100045, 42.02662980864175, 41.930510528467025, 42.115715838164505, 41.985445959603965, 41.83900144720396, 42.29042832582114, 41.489123678342835, 41.72538652266613, 42.17713684213043, 42.13934283334587, 41.98589078343, 42.00028368915194, 41.879287392533314, 42.09518800509823, 42.02662598341375, 42.13295380594594, 42.14024335020293, 41.77731640878026, 42.005341418330445, 42.223729969336404, 42.061090426900066, 41.80577646002784, 41.930794547871, 41.98570723481433, 41.92601007306013, 42.004304711848484, 41.847107837029235, 41.78340702799998, 42.1806318406454, 42.1921149805567, 42.09877009188713, 42.245936303724015, 41.70089655795996, 42.0414095328038, 41.988074055931314, 41.98071468867655, 41.66854987691042, 41.94681311777629, 42.11144269917766, 41.71016638986697, 41.95749716510404, 42.03456579829089, 41.58105635735088, 42.138952699082715, 42.136044294599884, 42.1356110082816, 41.89516685812909, 42.33492509400683, 41.560318090840326, 41.77274993954832, 42.00424319189406, 42.20812078051002, 41.69293271565411, 42.02250203480984, 42.574358190121345, 42.17568114307999, 42.63599864289233, 42.14469543430069, 41.94667566895973, 41.80236696888563, 41.3611631252449, 42.21355265007517, 42.201784044332484, 41.3869085159712, 42.336687412535575, 41.993098407857396, 42.12564998235151, 41.76336902934437, 41.952540844183154, 41.91132485505013, 41.81405115841374, 41.68850688174753, 42.255476006914414, 42.24444750376088, 42.12218447357367, 42.18873393347594, 42.22710992212992, 41.6844128697112, 41.91610109647143, 41.67354231304847, 41.765236906451726, 41.8727345423531, 42.10071202546171, 42.376121735243686, 42.3374799548132, 41.79063087638613, 42.2451714399244, 42.35957101805573, 41.672130385662804, 42.14644950196497, 42.014264223429436, 41.8767338450044, 41.53792368468552, 42.15106989951117, 41.576762664231595, 42.00996985208033, 42.03975579896382, 41.684022327600225, 42.4947417584149, 41.93287165988167, 41.73697540914352, 41.55656567726967, 42.1329653792591, 41.68996452082393, 42.05948001217078, 42.04209638555322, 41.76686429344753, 41.838506768949244, 41.929657616726736, 42.35139575759279, 42.20892140515483, 42.202275032219084, 41.62215445463511, 41.62306452075996, 42.2652264019378, 41.9851593873244, 41.89842029588483, 41.91948181655603, 42.256462546061314, 41.83349448582908, 42.27237399989985, 42.21732001199984, 41.948286492211125, 41.678553662626165, 42.264036434619655, 42.485776437937524, 42.06473872828091, 42.06096670132082, 42.08006229428322, 41.705157262514575, 42.062660413411244, 42.07227007157272, 41.71422515238542, 41.59714439307685, 42.07022594821046, 41.95879849166739, 42.33813172453825, 42.15887939351537, 42.0415482060329, 42.16634308351488, 41.73958108885285, 42.061673746453586, 42.141210021144744, 42.29669652997969, 42.018051228540564, 42.077679675802145, 42.069084891020374, 41.766522855854724, 41.594841058283365, 41.73168623471358, 41.96158497642751, 42.12485982110634, 42.127804006759526, 42.01805110245793, 42.101410012510726, 42.250444926621924, 41.96248264960852, 42.1281550078354, 41.86590187422154, 41.81741342103054, 42.118496560692776, 41.70186117095771, 41.71867285439852, 41.77819664663995, 41.84022990841512, 41.954637098645264, 42.079290346148206, 42.20624996553449, 41.954585414597446, 41.86920282612881, 41.84642019020102, 41.78923370120724, 42.14308974051796, 41.704927264960176, 42.21936313863269, 42.072484669855264, 42.34903687212343, 42.25249640071199, 42.38262555774604, 41.96623631526138, 41.8285608067714, 41.794502798161965, 41.6289061987163, 41.757174476623135, 42.123244118857286, 41.8188457401566, 42.05546795251245, 41.789027012873944, 42.104767541830604, 41.7526436349037, 41.68673055486047, 42.10163391771163, 41.62674733463713, 41.88344562915135, 41.802847328764464, 41.464748218539754, 42.02208347834568, 42.18173321394098, 41.949775279078395, 41.81905274649108, 42.134532948466955, 42.01196516513547, 42.12790408762467, 42.0364739738502, 42.21858318043397, 42.27614995148815, 41.67671169368258, 41.34623498644028, 42.27980300333762, 41.6321372764821, 42.142646524809905, 41.94846466035236, 41.90294715768646, 41.93653578979067, 42.06455646783604, 41.66501523406888, 41.767775464338854, 41.91323557497369, 42.037083525319694, 42.10725361915196, 41.72149582201266, 42.026506180267276, 42.17160688403608, 42.22292718199167, 41.743030909687135, 41.844469957915, 41.70959893459047, 42.1957332221717, 42.00183279622036, 41.92598399271747, 41.946560462747485, 41.751980342306936, 41.99766719019338, 42.08191375044189, 41.809989963920906, 41.8817624446279, 42.260590143461854, 42.028557643597665, 42.38581483052143, 41.90642007710869, 41.952671724485256, 42.00769353619069, 41.93926981225064, 42.171698616299544, 42.14254590836632, 42.358577594917996, 42.18272412709637, 42.052290695371404, 41.968755845643635, 41.8108107073942, 42.00251570122437, 41.86856309948805, 41.791349025004635, 41.99708939496966, 42.112510796247186, 41.956407967235855, 42.03250979735335, 41.99759085641943, 41.858680807800226, 41.73760255555041, 42.20888056031477, 42.270150964551576, 42.26272077196555, 42.189927350714704, 41.74560808127906, 41.93638747582308, 41.86056724905326, 42.173349296612244, 41.945922992118874, 42.11790483406786, 41.97696166326014, 41.939665742999246, 41.660288850680686, 42.18114405064596, 41.84333269488616, 42.117954015507586, 41.93663614051676, 41.59914045588752, 42.04445590082341, 41.51942061853275, 42.190697685572246, 41.974622228109276, 42.11948173579373, 42.00664878029288, 42.318619210666014, 41.85069961025037, 41.65302575432336, 41.54742779855061, 41.954247653396806, 42.287934299887375, 41.902309781062506, 42.19176074758549, 41.73646745446131, 41.96605356568922, 42.38311404227905, 42.39851772676454, 41.950778947140215, 41.95097207906257, 42.00996274368082, 42.38027941751205, 42.07315863907126, 42.19653346268307, 42.23593833857044, 42.2483536759532, 41.679986556680426, 42.210390197131424, 41.99615022169448, 41.650885259389355, 42.26150980741419, 42.050939166952375, 42.08336950331272, 42.164289402818596, 42.06802434670613, 41.72268130253256, 41.99427561594873, 41.95993011688742, 41.82574035421302, 42.01667143341146, 42.01518873386398, 41.72122397149342, 42.30758340575758, 42.14732869876755, 41.84912276036256, 42.22838368811601, 41.96441598050724, 41.977068034222434, 42.02893791577743, 41.972671392427266, 42.002743959818154, 42.419506091046976, 41.842288059317056, 42.04927062853261, 41.886107115439124, 41.91761446661477, 41.83298895142054, 42.02882619369739, 41.9360453380074, 41.937284045130205, 41.97493890213773, 42.12756670422203, 41.85077624699425, 42.22835621336701, 41.9993997789079, 42.26539353592315, 41.77392597190935, 41.921612394153634, 42.18442503952189, 41.636126913896355, 42.186498883517615, 42.09207244080052, 41.82732420492763, 42.19248661491128, 42.43682815764916, 42.038006993588795, 42.34118399834511, 42.04130551412029, 42.03599448279028, 41.94874825912786, 41.79917004169516, 42.19837225776445, 41.659821910110686, 42.44675603065068, 41.790164548810566, 42.27146205882673, 41.636425143148664, 41.79418812510434, 41.673904090229755, 41.813184744596334, 41.81228434877367, 42.19345026724867, 41.926225451287145, 42.324459301495544, 41.60670718229853, 41.84453504848469, 42.03844100815956, 42.12406048658614, 42.073561348391976, 41.76544598420468, 41.50708598934587, 42.00449933978666, 41.68639271877128, 42.15443559918621, 41.76114754548646, 41.55936531586957, 41.84669628665996, 41.84683759333684, 42.08764468674363, 41.920153678602006, 41.873696583535626, 41.96212455793898, 42.3849688020357, 42.13953110387633, 41.627368134564776, 42.33618658104526, 41.86084092254952, 42.14625015887115, 42.369935930852385, 41.783160643180324, 41.791799336456286, 42.03713360768083, 42.21632822995371, 41.72253079484345, 42.01443067600032, 42.422311197128145, 41.69028635192746, 42.413915418363004, 42.21825143326097, 41.925265362973654, 42.09892108008919, 41.60289697766072, 42.03405193013158, 42.26431637832091, 42.20300776563016, 41.85740709364622, 42.14590777948293, 42.25190160422393, 42.24289121849566, 42.110139202165286, 42.08801518131544, 41.8482331530745, 41.85142684021574, 41.71933672501438, 41.9383480331155, 41.85857537215336, 42.38881707147742, 41.80417541771174, 42.15720548950911, 41.74494074328048, 41.87773265813703, 41.696230197039874, 42.473059566251585, 41.5771909979755, 41.75163837157592, 42.040367557384876, 42.154465659668375, 42.02234574469983, 41.92692371293387, 42.255170277668626, 41.78057914073736, 42.246760659163584, 41.653231344873625, 42.17009626731412, 42.180946961233026, 42.04352151555377, 42.43569730337097, 42.08627245718595, 41.98995598766649, 42.04236844702579, 41.650653843754846, 41.60115172011133, 42.1593513136646, 42.417334787493324, 42.02591496025787, 41.816639255581386, 41.88979592329335, 42.37678891168436, 42.189802658106444, 42.04830242953549, 41.92031130789884, 41.58746625969184, 42.19476010337731, 41.736585380307915, 41.69240774642073, 41.82051239833105, 42.066162737587, 42.04948007832319, 41.89503268306397, 41.61845043562559, 41.51478948897323, 42.0953408477357, 42.135246823015635, 41.71082462978917, 42.203965217052136, 41.77419696458442, 41.90256014876014, 42.18118285048368, 41.65362841534583, 42.040964041155036, 42.06029709779566, 42.16604893518072, 42.044296410027165, 42.16088630824358, 41.665017652471896, 42.04840063879108, 42.05904043610154, 42.10477205729768, 41.69604156059266, 42.043875692661494, 41.423916074836306, 41.78733703811376, 42.442597430030006, 41.96867154665387, 41.88386654155819, 42.157909940816, 41.91663235248179, 41.834090067034076, 41.69971664135873, 41.307265385938244, 41.93210704825014, 42.081599373366565, 42.28325073071067, 41.72423464623029, 41.887483724841545, 41.7785179675964, 41.602398613832364, 42.06035673858668, 41.89590068338881, 42.115573269362386, 41.88703211918757, 42.344265313938074, 42.31262400732646, 41.79769064600482, 42.13118140819637, 41.86383841530516, 42.216099284078375, 41.796757869332346, 41.921245196960896, 41.80835022543611, 41.945884663355244, 42.14962540402724, 42.37069247061605, 41.63825158384074, 41.91528707764999, 41.85935137268317, 41.70550035434218, 42.165732946994886, 42.218989432619594, 42.42261108948174, 41.87349996100272, 42.10308275441921, 41.540472988669194, 41.9868506264435, 41.98749434799638, 41.68389007297606, 42.154419647720495, 41.88410274183241, 42.16133007149621, 41.795615972599556, 41.971392769293146, 42.0744630316356, 42.0244186063893, 42.156935440605984, 41.975918618699104, 41.97212566060871, 41.98627774143354, 42.34170029490899, 42.28549421986757, 42.536876517243336, 42.102896865055996, 41.98831176672784, 41.6827738803925, 41.85129420731686, 42.165508230639816, 41.8409815087725, 42.262926513748, 42.07087025867618, 41.8168920318927, 42.13793934353957, 42.151708073521114, 41.46399690837397, 42.21341865265931, 41.85976278894786, 42.27212346135294, 42.045907232717504, 41.68524923966311, 41.74330127114047, 41.68544686449047, 41.97047425399656, 42.05537930754907, 41.99575999640286, 42.175206357194256, 42.070854927681204, 41.88728073233569, 41.9836861355827, 41.738040705621074, 42.06477451104182, 41.90174499154892, 42.54967724277165, 42.04952567871582, 41.67299804144702, 42.02683758621115, 42.37137384216782, 42.40922377470742, 41.61563375227523, 42.30067815197603, 41.94192140482008, 42.15344731495762, 42.04033118964497, 42.102755862885445, 41.64765206747216, 42.03588851120989, 41.324206180348966, 42.38043016545504, 42.29291487188913, 41.54588865667405, 41.672962536205276, 41.984864294800225, 41.41922812568953, 41.99014117567395, 42.226523788921995, 41.666850594352624, 42.49542303276481, 41.97260488145605, 42.1470700494787, 41.83721946502653, 41.77570900374917, 42.16470335359962, 41.80210470331297, 42.09829818065452, 42.35060948811471, 42.213017695891146, 41.8984704990324, 41.70054349642218, 42.005228491746045, 41.556332737765594, 41.957021902393734, 42.13655789938469, 41.99722590859252, 42.58279102823801, 42.07933322577529, 41.94522073960128, 42.092569877350236, 41.78395075974124, 41.991969282437566, 41.56741757998899, 41.95704902455391, 41.761870174442855, 41.983756575006645, 41.78023708376492, 41.706220361188436, 42.014839839293415, 41.920684143815876, 41.847913795573405, 42.0690449092983, 42.24687450471774, 42.08279659565621, 41.98971882324615, 41.91279640093935, 41.746489590415194, 42.15582202342919, 42.44346942504888, 42.26094087297414, 41.99180908546012, 42.091936469934666, 41.90798535396338, 42.529304734310074, 42.06933209717208, 41.97244727126327, 41.97590251481261, 41.714617863625996, 41.92700848083278, 41.86833513885437, 42.23264987515824, 41.903187943323424, 41.71807604847718, 41.88613682367068, 42.16792375054596, 42.24631985986716, 42.17239533857499, 42.20192413248726, 42.04426120284469, 41.785101052651854, 42.299569930722754, 42.4779005744233, 42.14279615857746, 41.77950446560421, 42.17777997293502, 41.92332796962975, 42.14781693928364, 42.097908809005254, 41.96864570007088, 41.93795710288642, 42.0009985164266, 42.03631823220055, 41.94327959373772, 42.00681300800445, 41.99484920410684, 41.97955111120055, 42.12596445534423, 41.576958381399386, 42.025004049648345, 41.87661570206463, 41.537281129869534, 42.4069831321213, 41.845143033409315, 42.04702309156473, 41.850775833587626, 42.18696979843294, 41.822657179869786, 41.91334887184937, 41.865209271371874, 41.85379058034783, 42.2316158780656, 41.49223264727845, 41.909213202768356, 42.20767909689707, 42.42757253750109, 42.09183796277255, 42.109653986048855, 42.17835440167776, 42.174191928537404, 42.2470293233626, 41.728912653868996, 42.33485370421894, 41.78308499075368, 42.1013151998897, 42.046445749860744, 41.683714762869386, 42.01911452829241, 42.13962495925167, 42.1723407057452, 41.945357729191194, 41.91848097296066]\n",
            "[42.4034075008741, 42.4034075008741, 42.124766406087716, 42.124766406087716, 41.99793905177209, 41.99793905177209, 41.95578097841309, 41.95578097841309, 42.02094394065032, 42.21342550384748, 42.02094394065032, 42.23989887832246, 42.21342550384748, 41.58030380494996, 42.23989887832246, 41.77877608441464, 41.58030380494996, 42.4459625948758, 41.77877608441464, 42.4459625948758, 41.832626015076876, 42.17389188983639, 41.832626015076876, 41.933388902348085, 42.17389188983639, 41.933388902348085, 41.638680767681116, 41.638680767681116, 41.470154883943515, 41.470154883943515, 41.5866933333849, 41.5866933333849, 42.274940199562174, 42.274940199562174, 41.72189670950241, 41.72189670950241, 42.16808298528562, 42.16808298528562, 41.51532745534502, 41.51532745534502, 41.93831466198659, 41.93831466198659, 41.745244287897, 41.745244287897, 42.29686220866344, 42.29686220866344, 42.18875889760335, 41.64944514740916, 42.18875889760335, 42.12817319619485, 41.64944514740916, 42.12817319619485, 41.95340634474961, 42.22270360067001, 42.32674356947641, 41.67089233598537, 41.91222788564472, 42.21367421763961, 41.95340634474961, 42.3350918908417, 42.22270360067001, 41.627784340373665, 42.32674356947641, 42.1028793025502, 41.67089233598537, 41.832184988933456, 41.91222788564472, 41.70620348876373, 42.21367421763961, 41.89791167371017, 42.3350918908417, 42.019167417882784, 41.627784340373665, 42.299969442669145, 42.1028793025502, 42.33752789087196, 41.832184988933456, 41.969260677737715, 41.70620348876373, 42.23918411535035, 41.89791167371017, 41.716589389280195, 42.019167417882784, 42.16798609060669, 42.299969442669145, 41.93607855532616, 42.33752789087196, 41.969260677737715, 42.23918411535035, 41.716589389280195, 41.80957206396167, 42.16798609060669, 42.06096970524969, 41.50581167999334, 42.19120264811966, 41.93607855532616, 42.22120891109007, 41.80957206396167, 41.83174972813131, 42.1414489160011, 42.06096970524969, 41.93902848987928, 41.50581167999334, 41.73347646340917, 42.19120264811966, 41.653556819488166, 41.85382977905287, 42.22120891109007, 42.045300304822085, 41.83174972813131, 41.89363411312827, 42.1414489160011, 41.968157284537256, 41.93902848987928, 42.21837486057774, 41.73347646340917, 42.482368695996385, 41.653556819488166, 41.85382977905287, 42.045300304822085, 41.89363411312827, 41.953621855876335, 41.968157284537256, 41.84827178249557, 42.21837486057774, 42.393912632203254, 42.482368695996385, 42.05424575628993, 41.953621855876335, 41.97901890147112, 41.84827178249557, 41.9541911135806, 42.393912632203254, 41.796098075293315, 42.05424575628993, 41.85273302358993, 41.97901890147112, 41.9541911135806, 42.04181396790162, 41.796098075293315, 41.970193634392515, 42.1176740111626, 42.28649704112461, 41.85273302358993, 42.28352291615667, 42.04181396790162, 42.079200141733644, 41.970193634392515, 41.91200878421962, 42.1176740111626, 42.14272180272588, 42.28649704112461, 42.28352291615667, 42.24190063288427, 42.079200141733644, 41.938709015567134, 41.91200878421962, 42.067093170328185, 42.14272180272588, 42.293189471787606, 41.9001904290099, 42.24190063288427, 41.770827256909, 41.938709015567134, 42.067093170328185, 42.30636045274607, 41.9166560505776, 42.293189471787606, 41.9001904290099, 41.770827256909, 42.30636045274607, 41.9166560505776, 42.08195493625989, 41.6947350750434, 42.08195493625989, 41.84020466006512, 42.32435018904208, 41.6947350750434, 42.04556804945796, 41.84020466006512, 42.06068711616439, 41.567804505560986, 42.32435018904208, 42.0434129614227, 42.04556804945796, 42.35707930440308, 42.06068711616439, 42.146730990039465, 42.20075863828776, 41.567804505560986, 41.89886840883532, 42.0434129614227, 42.25810818580861, 42.35707930440308, 42.171129911632406, 42.146730990039465, 42.20075863828776, 41.89886840883532, 41.941178861821015, 42.25810818580861, 42.171129911632406, 41.758929811197795, 41.941178861821015, 41.774019862078504, 41.758929811197795, 42.191672286053844, 41.774019862078504, 41.92847864421056, 41.83388464116122, 41.83396189281228, 42.191672286053844, 42.162657400196004, 41.92847864421056, 41.89601193772024, 41.83388464116122, 42.092571441988405, 41.83396189281228, 41.64727746639097, 42.162657400196004, 41.97370375358394, 41.89601193772024, 42.110774976712484, 42.092571441988405, 42.20104730103308, 41.64727746639097, 42.44615620451179, 41.97370375358394, 42.09082091944393, 42.110774976712484, 42.00400982498414, 42.20104730103308, 42.3319057875614, 42.44615620451179, 42.06691015696034, 42.09082091944393, 41.8380074323161, 42.278343388268446, 42.00400982498414, 42.08008132143465, 42.3319057875614, 42.10385781050597, 42.06691015696034, 42.30335849306382, 41.8380074323161, 42.20095068244325, 42.278343388268446, 41.89657344763061, 42.08008132143465, 41.49927665745771, 42.10385781050597, 41.79013450772213, 42.30335849306382, 41.817687989818, 42.20095068244325, 42.13525011397877, 41.89657344763061, 42.10841182557527, 41.49927665745771, 41.88963679925835, 41.79013450772213, 42.16134840139153, 41.817687989818, 41.98903331472495, 42.13525011397877, 41.93000567476582, 42.10841182557527, 42.081079288827155, 41.88963679925835, 42.15093695667719, 42.16134840139153, 42.09445540628321, 41.98903331472495, 41.54916563176043, 41.93000567476582, 41.87184116401659, 42.081079288827155, 42.10017502011084, 42.15093695667719, 42.30743100957303, 42.09445540628321, 41.7955814338425, 41.54916563176043, 42.002107032654656, 41.89425707152306, 41.87184116401659, 42.20256343188353, 42.10017502011084, 42.03880675750514, 42.30743100957303, 41.85416900478481, 41.7955814338425, 41.8829793783639, 42.002107032654656, 42.192130489244796, 41.89425707152306, 41.53032559688754, 42.20256343188353, 42.34887560092618, 42.03880675750514, 41.815882056575596, 41.85416900478481, 42.08611771347466, 41.8829793783639, 41.85984543618298, 42.192130489244796, 41.53032559688754, 42.0049142362592, 42.34887560092618, 41.86662716141917, 41.815882056575596, 42.09234131666513, 42.08611771347466, 42.020540201116866, 41.85984543618298, 41.831654612779026, 42.031991192831136, 42.0049142362592, 42.17029328109174, 41.86662716141917, 41.894476705295425, 42.09234131666513, 42.20218081406414, 42.020540201116866, 42.02478528563044, 41.831654612779026, 41.96978432033757, 42.031991192831136, 41.96637884439478, 42.17029328109174, 42.31327470824349, 41.894476705295425, 42.09237549061993, 42.20218081406414, 42.12084228887086, 42.02478528563044, 42.39568815573276, 41.96978432033757, 42.12192389032809, 41.96637884439478, 41.515738322425406, 42.31327470824349, 42.04994899621163, 42.09237549061993, 41.8091106030112, 42.107057280146456, 42.12084228887086, 41.62165064338689, 42.39568815573276, 42.29602530898006, 42.12192389032809, 42.09690946821179, 42.42392269575117, 41.515738322425406, 42.28853537120436, 42.04994899621163, 42.09918024334831, 41.8091106030112, 42.364500971093605, 42.107057280146456, 41.68666863775454, 41.62165064338689, 42.35583107975659, 42.29602530898006, 41.716404420284114, 42.09690946821179, 42.42392269575117, 42.01167695572462, 42.28853537120436, 41.81349027112091, 42.09918024334831, 42.037067282843765, 42.364500971093605, 42.20864157043327, 41.68666863775454, 41.90742066745233, 42.35583107975659, 41.560042175360024, 41.716404420284114, 42.14521869192842, 42.01167695572462, 41.41164394233418, 41.81349027112091, 41.94319920157918, 41.48270539710816, 41.83981818000506, 42.037067282843765, 42.31529373320631, 42.20864157043327, 42.350806670708934, 41.90742066745233, 41.97807526590452, 41.560042175360024, 42.098383533054076, 42.14521869192842, 41.98515974914429, 41.94835263890431, 41.41164394233418, 41.923371530459846, 41.94319920157918, 41.48270539710816, 42.31088759194765, 41.451204656830555, 41.7321306518395, 41.83981818000506, 41.936330078111986, 42.31529373320631, 42.39797495573996, 42.350806670708934, 42.05737672313887, 41.97807526590452, 42.121433482847756, 42.098383533054076, 42.17712174006148, 41.98515974914429, 41.76048711630241, 41.94835263890431, 42.07016692722097, 41.80214898131641, 41.923371530459846, 42.11661169300313, 42.31088759194765, 41.63473574419107, 41.451204656830555, 42.144819449519595, 41.7321306518395, 41.96178123023993, 42.18945160258281, 41.85226740288113, 41.936330078111986, 41.69264053749063, 42.39797495573996, 42.05016231818209, 42.20926788467195, 42.05737672313887, 41.8608500761762, 42.121433482847756, 41.98697267472743, 42.17712174006148, 41.888885674384916, 41.76048711630241, 41.70052832511387, 42.07016692722097, 41.92878706609008, 41.80214898131641, 42.01373733664922, 42.11661169300313, 42.18649202795481, 41.63473574419107, 41.87644683967449, 42.004751066200086, 42.46540769013246, 42.144819449519595, 41.96178123023993, 42.18945160258281, 41.85226740288113, 41.69264053749063, 42.05016231818209, 42.20926788467195, 42.08932073416324, 41.8608500761762, 41.99814785712716, 41.98697267472743, 41.91118545645159, 41.888885674384916, 41.70052832511387, 41.92878706609008, 41.97746466257061, 42.01342767290423, 42.22438760349466, 42.32169297831181, 42.1542205293884, 42.01373733664922, 42.18649202795481, 41.87644683967449, 42.004751066200086, 42.239133444266535, 42.46540769013246, 42.42683587791722, 42.08932073416324, 42.02435181904523, 42.09445166796809, 41.90703250280414, 41.88029529750231, 41.99814785712716, 42.07381958601537, 41.91118545645159, 41.761423661288546, 41.97746466257061, 42.036161288138246, 42.01342767290423, 42.22438760349466, 42.24471600176987, 42.32169297831181, 42.04215710704848, 42.1542205293884, 42.37006465020436, 42.239133444266535, 42.42683587791722, 42.02435181904523, 42.09445166796809, 41.899083440244674, 42.32385612826351, 41.90703250280414, 41.86575067969567, 42.30952080562151, 41.88029529750231, 42.230588669762916, 41.96664757120052, 42.07381958601537, 41.97489271437778, 42.043650728070524, 41.761423661288546, 42.004777944805966, 42.24682281948833, 42.036161288138246, 42.26970127344819, 42.24471600176987, 41.749127053851524, 42.04215710704848, 42.58056077406377, 42.37006465020436, 42.05558166797598, 41.99246908090342, 41.899083440244674, 42.32385612826351, 42.36542735669537, 42.14232075041078, 41.86575067969567, 42.40132495147814, 41.97053530690772, 42.30952080562151, 42.230588669762916, 42.27892340348229, 41.96664757120052, 41.682167039837076, 41.97489271437778, 42.26653385516175, 42.043650728070524, 42.44115814396517, 42.004777944805966, 42.24682281948833, 41.87307864009679, 42.26970127344819, 42.0350052778084, 41.749127053851524, 42.02553119772649, 42.58056077406377, 41.89919280217516, 42.05558166797598, 42.26214727035501, 41.99246908090342, 41.600939363482844, 42.36542735669537, 41.72327793810652, 42.14232075041078, 41.96953730094443, 42.40132495147814, 41.826855524285655, 41.97053530690772, 42.109497109706545, 42.27892340348229, 42.098476032332876, 41.682167039837076, 42.16014171618168, 42.26653385516175, 42.06546465939863, 42.179776451794666, 42.44115814396517, 42.45589484992047, 41.87307864009679, 42.14943570104973, 42.0350052778084, 41.63104455796715, 41.985162345462456, 42.02553119772649, 41.840537989480836, 41.89919280217516, 41.79074870519113, 42.26214727035501, 41.62642312132522, 41.600939363482844, 42.24277475533105, 41.72327793810652, 42.087632468836205, 41.96953730094443, 42.01855674027496, 41.826855524285655, 41.928721056335654, 42.042935550422584, 42.109497109706545, 42.098476032332876, 42.10162880396725, 42.16014171618168, 41.71251692705345, 41.581348198129064, 42.06546465939863, 42.027976726566294, 42.179776451794666, 42.019511470218525, 41.944750711476026, 42.45589484992047, 41.8950099539076, 42.14943570104973, 41.57120382004993, 41.63104455796715, 41.985162345462456, 41.68536972831832, 41.840537989480836, 42.11941421187488, 41.79074870519113, 42.425973793205074, 41.62642312132522, 41.8968966897306, 42.24277475533105, 42.087632468836205, 42.02265445305676, 42.01855674027496, 42.17735657483728, 41.928721056335654, 41.76197565519042, 42.042935550422584, 41.833217533358855, 42.10162880396725, 42.56295122992884, 41.71251692705345, 41.97043254448809, 41.581348198129064, 41.81033122845209, 42.027976726566294, 41.54043204047352, 42.019511470218525, 41.77530176217029, 41.944750711476026, 42.111337259435835, 41.8950099539076, 42.16251027411234, 41.57120382004993, 42.23922810359034, 41.68536972831832, 41.99510957533192, 42.11941421187488, 41.7710722825928, 42.1423959357077, 42.425973793205074, 42.10625379376303, 41.8968966897306, 42.00984419137682, 42.02265445305676, 42.029430409312816, 42.17735657483728, 42.20852914093958, 41.76197565519042, 42.12953797022379, 41.833217533358855, 42.123314904816155, 42.56295122992884, 41.97043254448809, 41.81033122845209, 42.15114789625744, 41.54043204047352, 41.871330631029764, 41.77530176217029, 42.11827605877671, 42.111337259435835, 42.0639100968888, 42.16251027411234, 41.93385701129267, 42.23922810359034, 41.6733057523983, 41.99510957533192, 41.91785227948005, 41.7710722825928, 41.368431944253594, 42.1423959357077, 42.0197157922446, 42.10625379376303, 41.95033823633892, 42.094103953715745, 42.00984419137682, 41.66118989628905, 42.029430409312816, 41.968388939751144, 42.20852914093958, 42.16634767844462, 42.12953797022379, 41.649288646005, 41.99086071298531, 42.13516481826576, 42.123314904816155, 41.961883407076066, 42.15114789625744, 41.871330631029764, 41.99544017283477, 41.73105915906653, 42.11827605877671, 42.1974549380894, 42.0806717267202, 42.0639100968888, 41.89659150160328, 41.93385701129267, 41.94753627368291, 41.6733057523983, 42.0583459955901, 41.91785227948005, 41.55602715103471, 41.368431944253594, 41.88685963358931, 42.0197157922446, 41.81261253316745, 41.95033823633892, 42.094103953715745, 41.66118989628905, 41.968388939751144, 41.56979145092972, 42.16634767844462, 41.80559847228842, 41.649288646005, 42.100127770490516, 41.99086071298531, 41.57603529391928, 42.221304201023436, 41.5625498991551, 42.13516481826576, 41.7914707345293, 41.961883407076066, 42.00925875162316, 41.99544017283477, 42.07616461887372, 41.73105915906653, 41.857689123023405, 42.1974549380894, 41.76637958115534, 42.0806717267202, 41.89659150160328, 41.53993252112867, 41.94753627368291, 41.896992254783264, 42.0583459955901, 42.36976802379084, 41.55602715103471, 42.048360894745784, 41.88685963358931, 42.113369155130115, 41.81261253316745, 42.06478227268647, 41.56979145092972, 41.93896548694332, 41.80559847228842, 41.937158328322965, 42.100127770490516, 41.80654134201973, 41.57603529391928, 41.95187114879384, 42.026902204692306, 42.221304201023436, 41.70352499382592, 41.5625498991551, 42.24284933692931, 41.7914707345293, 41.99605483709683, 42.00925875162316, 41.842145497438864, 42.07616461887372, 41.87745324856159, 41.857689123023405, 41.76637958115534, 42.11046539140381, 41.53993252112867, 41.82074374576653, 41.896992254783264, 41.88640482038692, 42.36976802379084, 41.6352395946281, 42.07725995548455, 42.048360894745784, 42.1026082102672, 42.113369155130115, 42.05588647359798, 42.06478227268647, 42.05371870076074, 41.93896548694332, 42.10436415153429, 41.937158328322965, 41.898897538883276, 41.80654134201973, 41.99892336215686, 41.95187114879384, 41.757824688209325, 42.026902204692306, 42.17819772584984, 41.70352499382592, 42.025088538086884, 42.24284933692931, 42.41458139141247, 41.99605483709683, 41.76837468990805, 41.842145497438864, 42.147996474772, 41.87745324856159, 42.11046539140381, 41.82074374576653, 41.95898247024309, 41.88640482038692, 41.71479127126184, 41.6352395946281, 41.77562519023022, 42.07725995548455, 41.978582423232, 42.1026082102672, 42.07038514217668, 42.05588647359798, 42.12872105520318, 42.05371870076074, 41.838446008813484, 42.10436415153429, 42.25756988094047, 41.898897538883276, 42.07938516251211, 41.99892336215686, 41.62883578712957, 41.757824688209325, 41.84301182124945, 42.17819772584984, 41.97377483874091, 42.025088538086884, 41.96541239913575, 42.41458139141247, 41.662073685084444, 41.76837468990805, 42.39427330037831, 42.147996474772, 41.78499678842967, 41.95898247024309, 42.35502257524863, 41.71479127126184, 41.63580397457833, 41.77562519023022, 41.93438657818754, 41.978582423232, 42.282854200186414, 42.052853495084854, 42.07038514217668, 41.900470125660796, 42.12872105520318, 41.838446008813484, 42.25756988094047, 42.071374353601726, 42.173873845705735, 42.07938516251211, 41.62883578712957, 42.22156597426269, 41.9494361588794, 41.84301182124945, 41.96971960212104, 41.97377483874091, 41.95702160116758, 41.96541239913575, 41.65437514801899, 41.662073685084444, 42.39427330037831, 42.17887499046845, 41.86875332185548, 41.78499678842967, 42.35502257524863, 41.63580397457833, 41.93438657818754, 42.282854200186414, 42.052853495084854, 41.900470125660796, 42.071374353601726, 42.06316539254547, 42.173873845705735, 41.94254302344074, 42.22156597426269, 42.259947706429514, 41.9494361588794, 42.23691003112083, 41.96971960212104, 41.576262564854055, 41.95702160116758, 42.161885265960336, 41.65437514801899, 42.06567330230554, 42.17887499046845, 42.007376324419575, 41.86875332185548, 42.27090168730398, 42.06316539254547, 42.46717815409271, 41.94254302344074, 42.259947706429514, 42.05133555174722, 42.23691003112083, 41.576262564854055, 42.161885265960336, 42.06567330230554, 42.007376324419575, 42.27090168730398, 42.46717815409271, 42.05133555174722, 42.15976377271628, 41.617075888243676, 41.972288479618946, 42.14455540947503, 41.948408660118616, 42.351909481098744, 42.37948472383237, 41.97334289713213, 42.15976377271628, 41.617075888243676, 41.972288479618946, 42.14455540947503, 41.948408660118616, 42.351909481098744, 42.37948472383237, 41.97334289713213, 41.80980436798137, 42.22240720261144, 42.40046471810708, 41.80980436798137, 42.36890460752817, 42.00750124910653, 41.88977325516326, 42.11826501679709, 41.89811533749173, 42.091503614589406, 42.09360041774919, 41.7731286091943, 42.00603501760613, 42.07079027382532, 42.22240720261144, 42.40046471810708, 42.36890460752817, 42.00750124910653, 41.88977325516326, 42.11826501679709, 41.89811533749173, 42.091503614589406, 42.09360041774919, 41.7731286091943, 42.19941221225116, 42.57336806007863, 42.038438541931676, 42.18372428810199, 41.87915812456085, 42.43882833063687, 41.89716606139042, 41.874718750313285, 42.00603501760613, 42.25722733142424, 42.07079027382532, 42.310777099950606, 42.19941221225116, 41.922869832472514, 42.57336806007863, 42.45533610852941, 42.038438541931676, 41.9235472621138, 42.18372428810199, 42.10769731519484, 41.87915812456085, 41.73385033904527, 42.43882833063687, 41.82883850439372, 41.89716606139042, 41.833182769438444, 41.874718750313285, 41.97913540347418, 42.25722733142424, 41.94911080635583, 42.310777099950606, 42.55079630218535, 41.919974121371, 41.922869832472514, 42.26191674005147, 42.45533610852941, 42.57058069360111, 41.9235472621138, 41.82355715937637, 42.10769731519484, 42.2887156788538, 41.73385033904527, 42.19524873480081, 41.82883850439372, 41.88273517051207, 41.833182769438444, 41.97913540347418, 42.02513242702872, 42.11346385216959, 41.97478612776013, 41.702083789641286, 41.692536424634774, 42.179944321698336, 41.94911080635583, 42.28007211784339, 42.55079630218535, 41.919974121371, 42.26191674005147, 41.75778359243406, 42.57058069360111]\n",
            "[0.23840206200020475]\n",
            "[0.9623993249997511]\n"
          ]
        }
      ],
      "source": [
        "#si-exercise\n",
        "\n",
        "import random\n",
        "import numpy as np\n",
        "import multiprocessing as mp\n",
        "import timeit\n",
        "\n",
        "#define constants\n",
        "#n_REPS = 1000 Took this constant definition out because the test code was looking for a starting argument of 'n_reps=1000' in both sCalc and pCalc\n",
        "n_SAMPLES = 1000\n",
        "\n",
        "#sample normal distributions and assign to variables\n",
        "def generate_data(n_samples=n_SAMPLES):\n",
        "  a = np.random.normal(15, 2, n_samples)\n",
        "  x1 = np.random.normal(3, 5, n_samples)\n",
        "  x2 = np.random.normal(10, 1, n_samples)\n",
        "  x3 = np.random.normal(8, 8, n_samples)\n",
        "  e = np.random.normal(0, 1, n_samples)\n",
        "  y = a + x1 + 2 * x2 + 1/2 * x3 + e\n",
        "  return y\n",
        "\n",
        "#Serial calculation\n",
        "def sCalc(n_reps=1000):\n",
        "  results = []\n",
        "  for _ in range(n_reps):\n",
        "    mean_y = generate_data().mean()\n",
        "    results.append(mean_y)\n",
        "  return results\n",
        "\n",
        "#Parallel calculation\n",
        "def pCalc(n_reps=1000):\n",
        "  results = []\n",
        "  with mp.Pool(processes=2) as pool:\n",
        "    for _ in range(n_reps):\n",
        "      y = pool.apply_async(generate_data)\n",
        "      mean_y = y.get().mean()\n",
        "      results.append(mean_y)\n",
        "  return results\n",
        "\n",
        "#store sCalc results\n",
        "sResults = sCalc(n_reps=1000)\n",
        "print(sResults)\n",
        "\n",
        "#store pCalc results\n",
        "pResults = pCalc(n_reps=1000)\n",
        "print(pResults)\n",
        "\n",
        "#time sCalc\n",
        "sTime = []\n",
        "sTime.append(timeit.Timer('sCalc(n_reps=1000)',\n",
        "    'from __main__ import sCalc, generate_data').timeit(number=1))\n",
        "print(sTime)\n",
        "\n",
        "#time pCalc\n",
        "pTime = []\n",
        "pTime.append(timeit.Timer('pCalc(n_reps=1000)',\n",
        "    'from __main__ import pCalc, generate_data').timeit(number=1))\n",
        "print(pTime)"
      ]
    },
    {
      "cell_type": "code",
      "source": [],
      "metadata": {
        "id": "l8FyU7rkWB-k"
      },
      "execution_count": null,
      "outputs": []
    }
  ],
  "metadata": {
    "celltoolbar": "Create Assignment",
    "kernelspec": {
      "display_name": "Python 3 (ipykernel)",
      "language": "python",
      "name": "python3"
    },
    "language_info": {
      "codemirror_mode": {
        "name": "ipython",
        "version": 3
      },
      "file_extension": ".py",
      "mimetype": "text/x-python",
      "name": "python",
      "nbconvert_exporter": "python",
      "pygments_lexer": "ipython3",
      "version": "3.9.13"
    },
    "colab": {
      "provenance": []
    }
  },
  "nbformat": 4,
  "nbformat_minor": 0
}